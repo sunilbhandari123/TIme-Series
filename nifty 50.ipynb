{
 "cells": [
  {
   "cell_type": "code",
   "execution_count": 367,
   "id": "fb33fe6b",
   "metadata": {},
   "outputs": [],
   "source": [
    "import numpy as np \n",
    "import pandas as pd\n",
    "import seaborn as sns\n",
    "color = sns.color_palette()\n",
    "import matplotlib.pyplot as plt\n",
    "\n",
    "import warnings\n",
    "warnings.filterwarnings('ignore')\n"
   ]
  },
  {
   "cell_type": "code",
   "execution_count": 368,
   "id": "921aade4",
   "metadata": {},
   "outputs": [
    {
     "data": {
      "text/html": [
       "        <script type=\"text/javascript\">\n",
       "        window.PlotlyConfig = {MathJaxConfig: 'local'};\n",
       "        if (window.MathJax && window.MathJax.Hub && window.MathJax.Hub.Config) {window.MathJax.Hub.Config({SVG: {font: \"STIX-Web\"}});}\n",
       "        if (typeof require !== 'undefined') {\n",
       "        require.undef(\"plotly\");\n",
       "        requirejs.config({\n",
       "            paths: {\n",
       "                'plotly': ['https://cdn.plot.ly/plotly-2.12.1.min']\n",
       "            }\n",
       "        });\n",
       "        require(['plotly'], function(Plotly) {\n",
       "            window._Plotly = Plotly;\n",
       "        });\n",
       "        }\n",
       "        </script>\n",
       "        "
      ]
     },
     "metadata": {},
     "output_type": "display_data"
    }
   ],
   "source": [
    "import plotly.offline as py\n",
    "from plotly import tools\n",
    "py.init_notebook_mode(connected=True)\n",
    "import plotly.graph_objs as go\n",
    "import plotly.express as px\n",
    "\n",
    "from statsmodels.tsa.stattools import adfuller\n",
    "from statsmodels.graphics.tsaplots import plot_acf, plot_pacf\n",
    "from statsmodels.tsa.seasonal import seasonal_decompose\n",
    "from statsmodels.tsa.statespace.sarimax import SARIMAX"
   ]
  },
  {
   "cell_type": "code",
   "execution_count": 369,
   "id": "9c3b538e",
   "metadata": {},
   "outputs": [
    {
     "data": {
      "text/html": [
       "<div>\n",
       "<style scoped>\n",
       "    .dataframe tbody tr th:only-of-type {\n",
       "        vertical-align: middle;\n",
       "    }\n",
       "\n",
       "    .dataframe tbody tr th {\n",
       "        vertical-align: top;\n",
       "    }\n",
       "\n",
       "    .dataframe thead th {\n",
       "        text-align: right;\n",
       "    }\n",
       "</style>\n",
       "<table border=\"1\" class=\"dataframe\">\n",
       "  <thead>\n",
       "    <tr style=\"text-align: right;\">\n",
       "      <th></th>\n",
       "      <th>Open</th>\n",
       "      <th>High</th>\n",
       "      <th>Low</th>\n",
       "      <th>Close</th>\n",
       "      <th>Volume</th>\n",
       "      <th>Turnover</th>\n",
       "      <th>P/E</th>\n",
       "      <th>P/B</th>\n",
       "      <th>Div Yield</th>\n",
       "    </tr>\n",
       "    <tr>\n",
       "      <th>Date</th>\n",
       "      <th></th>\n",
       "      <th></th>\n",
       "      <th></th>\n",
       "      <th></th>\n",
       "      <th></th>\n",
       "      <th></th>\n",
       "      <th></th>\n",
       "      <th></th>\n",
       "      <th></th>\n",
       "    </tr>\n",
       "  </thead>\n",
       "  <tbody>\n",
       "    <tr>\n",
       "      <th>2000-01-03</th>\n",
       "      <td>1482.15</td>\n",
       "      <td>1592.90</td>\n",
       "      <td>1482.15</td>\n",
       "      <td>1592.2</td>\n",
       "      <td>25358322.0</td>\n",
       "      <td>8.841500e+09</td>\n",
       "      <td>25.91</td>\n",
       "      <td>4.63</td>\n",
       "      <td>0.95</td>\n",
       "    </tr>\n",
       "    <tr>\n",
       "      <th>2000-01-04</th>\n",
       "      <td>1594.40</td>\n",
       "      <td>1641.95</td>\n",
       "      <td>1594.40</td>\n",
       "      <td>1638.7</td>\n",
       "      <td>38787872.0</td>\n",
       "      <td>1.973690e+10</td>\n",
       "      <td>26.67</td>\n",
       "      <td>4.76</td>\n",
       "      <td>0.92</td>\n",
       "    </tr>\n",
       "    <tr>\n",
       "      <th>2000-01-05</th>\n",
       "      <td>1634.55</td>\n",
       "      <td>1635.50</td>\n",
       "      <td>1555.05</td>\n",
       "      <td>1595.8</td>\n",
       "      <td>62153431.0</td>\n",
       "      <td>3.084790e+10</td>\n",
       "      <td>25.97</td>\n",
       "      <td>4.64</td>\n",
       "      <td>0.95</td>\n",
       "    </tr>\n",
       "    <tr>\n",
       "      <th>2000-01-06</th>\n",
       "      <td>1595.80</td>\n",
       "      <td>1639.00</td>\n",
       "      <td>1595.80</td>\n",
       "      <td>1617.6</td>\n",
       "      <td>51272875.0</td>\n",
       "      <td>2.531180e+10</td>\n",
       "      <td>26.32</td>\n",
       "      <td>4.70</td>\n",
       "      <td>0.94</td>\n",
       "    </tr>\n",
       "    <tr>\n",
       "      <th>2000-01-07</th>\n",
       "      <td>1616.60</td>\n",
       "      <td>1628.25</td>\n",
       "      <td>1597.20</td>\n",
       "      <td>1613.3</td>\n",
       "      <td>54315945.0</td>\n",
       "      <td>1.914630e+10</td>\n",
       "      <td>26.25</td>\n",
       "      <td>4.69</td>\n",
       "      <td>0.94</td>\n",
       "    </tr>\n",
       "  </tbody>\n",
       "</table>\n",
       "</div>"
      ],
      "text/plain": [
       "               Open     High      Low   Close      Volume      Turnover  \\\n",
       "Date                                                                      \n",
       "2000-01-03  1482.15  1592.90  1482.15  1592.2  25358322.0  8.841500e+09   \n",
       "2000-01-04  1594.40  1641.95  1594.40  1638.7  38787872.0  1.973690e+10   \n",
       "2000-01-05  1634.55  1635.50  1555.05  1595.8  62153431.0  3.084790e+10   \n",
       "2000-01-06  1595.80  1639.00  1595.80  1617.6  51272875.0  2.531180e+10   \n",
       "2000-01-07  1616.60  1628.25  1597.20  1613.3  54315945.0  1.914630e+10   \n",
       "\n",
       "              P/E   P/B  Div Yield  \n",
       "Date                                \n",
       "2000-01-03  25.91  4.63       0.95  \n",
       "2000-01-04  26.67  4.76       0.92  \n",
       "2000-01-05  25.97  4.64       0.95  \n",
       "2000-01-06  26.32  4.70       0.94  \n",
       "2000-01-07  26.25  4.69       0.94  "
      ]
     },
     "execution_count": 369,
     "metadata": {},
     "output_type": "execute_result"
    }
   ],
   "source": [
    "data_nifty_50 = pd.read_csv(\"nifty 50.csv\", index_col='Date',\n",
    "                          parse_dates=['Date'])\n",
    "data_bank_nifty = pd.read_csv(\"NIFTY BANK.csv\", \n",
    "                            index_col='Date', parse_dates=['Date'])\n",
    "\n",
    "data_nifty_50.head(5)"
   ]
  },
  {
   "cell_type": "code",
   "execution_count": 370,
   "id": "45070b7a",
   "metadata": {},
   "outputs": [
    {
     "data": {
      "text/html": [
       "<div>\n",
       "<style scoped>\n",
       "    .dataframe tbody tr th:only-of-type {\n",
       "        vertical-align: middle;\n",
       "    }\n",
       "\n",
       "    .dataframe tbody tr th {\n",
       "        vertical-align: top;\n",
       "    }\n",
       "\n",
       "    .dataframe thead th {\n",
       "        text-align: right;\n",
       "    }\n",
       "</style>\n",
       "<table border=\"1\" class=\"dataframe\">\n",
       "  <thead>\n",
       "    <tr style=\"text-align: right;\">\n",
       "      <th></th>\n",
       "      <th>Open</th>\n",
       "      <th>High</th>\n",
       "      <th>Low</th>\n",
       "      <th>Close</th>\n",
       "      <th>Volume</th>\n",
       "      <th>Turnover</th>\n",
       "      <th>P/E</th>\n",
       "      <th>P/B</th>\n",
       "      <th>Div Yield</th>\n",
       "    </tr>\n",
       "    <tr>\n",
       "      <th>Date</th>\n",
       "      <th></th>\n",
       "      <th></th>\n",
       "      <th></th>\n",
       "      <th></th>\n",
       "      <th></th>\n",
       "      <th></th>\n",
       "      <th></th>\n",
       "      <th></th>\n",
       "      <th></th>\n",
       "    </tr>\n",
       "  </thead>\n",
       "  <tbody>\n",
       "    <tr>\n",
       "      <th>2020-05-04</th>\n",
       "      <td>9533.50</td>\n",
       "      <td>9533.50</td>\n",
       "      <td>9266.95</td>\n",
       "      <td>9293.50</td>\n",
       "      <td>NaN</td>\n",
       "      <td>NaN</td>\n",
       "      <td>21.39</td>\n",
       "      <td>2.65</td>\n",
       "      <td>1.64</td>\n",
       "    </tr>\n",
       "    <tr>\n",
       "      <th>2020-05-05</th>\n",
       "      <td>9429.40</td>\n",
       "      <td>9450.90</td>\n",
       "      <td>9190.75</td>\n",
       "      <td>9205.60</td>\n",
       "      <td>725196178.0</td>\n",
       "      <td>2.970020e+11</td>\n",
       "      <td>21.19</td>\n",
       "      <td>2.62</td>\n",
       "      <td>1.65</td>\n",
       "    </tr>\n",
       "    <tr>\n",
       "      <th>2020-05-06</th>\n",
       "      <td>9226.80</td>\n",
       "      <td>9346.90</td>\n",
       "      <td>9116.50</td>\n",
       "      <td>9270.90</td>\n",
       "      <td>722185448.0</td>\n",
       "      <td>3.079810e+11</td>\n",
       "      <td>21.34</td>\n",
       "      <td>2.64</td>\n",
       "      <td>1.64</td>\n",
       "    </tr>\n",
       "    <tr>\n",
       "      <th>2020-05-07</th>\n",
       "      <td>9234.05</td>\n",
       "      <td>9277.85</td>\n",
       "      <td>9175.90</td>\n",
       "      <td>9199.05</td>\n",
       "      <td>708740416.0</td>\n",
       "      <td>5.970553e+11</td>\n",
       "      <td>21.18</td>\n",
       "      <td>2.62</td>\n",
       "      <td>1.65</td>\n",
       "    </tr>\n",
       "    <tr>\n",
       "      <th>2020-05-08</th>\n",
       "      <td>9376.95</td>\n",
       "      <td>9382.65</td>\n",
       "      <td>9238.20</td>\n",
       "      <td>9251.50</td>\n",
       "      <td>609053504.0</td>\n",
       "      <td>3.074345e+11</td>\n",
       "      <td>21.28</td>\n",
       "      <td>2.64</td>\n",
       "      <td>1.64</td>\n",
       "    </tr>\n",
       "  </tbody>\n",
       "</table>\n",
       "</div>"
      ],
      "text/plain": [
       "               Open     High      Low    Close       Volume      Turnover  \\\n",
       "Date                                                                        \n",
       "2020-05-04  9533.50  9533.50  9266.95  9293.50          NaN           NaN   \n",
       "2020-05-05  9429.40  9450.90  9190.75  9205.60  725196178.0  2.970020e+11   \n",
       "2020-05-06  9226.80  9346.90  9116.50  9270.90  722185448.0  3.079810e+11   \n",
       "2020-05-07  9234.05  9277.85  9175.90  9199.05  708740416.0  5.970553e+11   \n",
       "2020-05-08  9376.95  9382.65  9238.20  9251.50  609053504.0  3.074345e+11   \n",
       "\n",
       "              P/E   P/B  Div Yield  \n",
       "Date                                \n",
       "2020-05-04  21.39  2.65       1.64  \n",
       "2020-05-05  21.19  2.62       1.65  \n",
       "2020-05-06  21.34  2.64       1.64  \n",
       "2020-05-07  21.18  2.62       1.65  \n",
       "2020-05-08  21.28  2.64       1.64  "
      ]
     },
     "execution_count": 370,
     "metadata": {},
     "output_type": "execute_result"
    }
   ],
   "source": [
    "data_nifty_50.tail(5)"
   ]
  },
  {
   "cell_type": "markdown",
   "id": "fd8307e4",
   "metadata": {},
   "source": [
    "so we have the data sets from 2001-01-03 to 2020-05-04"
   ]
  },
  {
   "cell_type": "markdown",
   "id": "4a4b5c42",
   "metadata": {},
   "source": [
    "# Cleaning Data"
   ]
  },
  {
   "cell_type": "code",
   "execution_count": 371,
   "id": "149b2e6b",
   "metadata": {},
   "outputs": [],
   "source": [
    "data_nifty_50=data_nifty_50.fillna(method=\"ffill\")"
   ]
  },
  {
   "cell_type": "code",
   "execution_count": 372,
   "id": "77e92a61",
   "metadata": {},
   "outputs": [],
   "source": [
    "data_bank_nifty=data_bank_nifty.fillna(method=\"ffill\")"
   ]
  },
  {
   "cell_type": "code",
   "execution_count": 373,
   "id": "381a97c5",
   "metadata": {},
   "outputs": [
    {
     "data": {
      "text/plain": [
       "Open         0\n",
       "High         0\n",
       "Low          0\n",
       "Close        0\n",
       "Volume       0\n",
       "Turnover     0\n",
       "P/E          0\n",
       "P/B          0\n",
       "Div Yield    0\n",
       "dtype: int64"
      ]
     },
     "execution_count": 373,
     "metadata": {},
     "output_type": "execute_result"
    }
   ],
   "source": [
    "data_nifty_50.isnull().sum()"
   ]
  },
  {
   "cell_type": "markdown",
   "id": "001ad0a1",
   "metadata": {},
   "source": [
    "# visualization"
   ]
  },
  {
   "cell_type": "code",
   "execution_count": 374,
   "id": "3dd0b870",
   "metadata": {},
   "outputs": [],
   "source": [
    "# this is the single plot"
   ]
  },
  {
   "cell_type": "code",
   "execution_count": 375,
   "id": "bb2ee0c1",
   "metadata": {},
   "outputs": [
    {
     "data": {
      "image/png": "[encoded data removed]",
      "text/plain": [
       "<Figure size 2000x500 with 1 Axes>"
      ]
     },
     "metadata": {},
     "output_type": "display_data"
    }
   ],
   "source": [
    "fig,ax=plt.subplots(figsize=[20,6])\n",
    "data_nifty_50.plot(y=\"Close\",figsize=[20,5],legend=None,ax=ax)\n",
    "ax.set_title('nifty stocks form 2000 to 2020')\n",
    "plt.tight_layout()"
   ]
  },
  {
   "cell_type": "code",
   "execution_count": 376,
   "id": "93a1e6f8",
   "metadata": {},
   "outputs": [],
   "source": [
    "# lets make the function so that we donot have to write hole code when we are ploting again and again \n",
    "#simply we will call the function"
   ]
  },
  {
   "cell_type": "code",
   "execution_count": 377,
   "id": "f130603b",
   "metadata": {},
   "outputs": [],
   "source": [
    "def plot(data, attritube ,start='2000', end='2020',color ='blue'):\n",
    "    fig, ax = plt.subplots(1, figsize=(18,6))\n",
    "    ax.plot(data[start:end].index, data[start:end][attritube],'tab:{}'.format(color))\n",
    "    ax.set_title(\"Nifty stock {} from 2000 to 2020\".format(attritube))\n",
    "    \n",
    "    ax.axhline(y=data[start:end].describe()[attritube][\"max\"],linewidth=2, color='m')\n",
    "    ax.axhline(y=data[start:end].describe()[attritube][\"min\"],linewidth=2, color='c')\n",
    "    ax.axvline(x=data[attritube].idxmax(),linewidth=2, color='b')\n",
    "    ax.axvline(x=data[attritube].idxmin() ,linewidth=2, color='y')\n",
    "    \n",
    "    plt.show()\n",
    "    print(\"Max Value :  \",data[start:end].describe()[attritube][\"max\"])\n",
    "    print(\"Min Value :  \",data[start:end].describe()[attritube][\"min\"])"
   ]
  },
  {
   "cell_type": "code",
   "execution_count": 378,
   "id": "d72cea33",
   "metadata": {},
   "outputs": [
    {
     "data": {
      "image/png": "[encoded data removed]",
      "text/plain": [
       "<Figure size 1800x600 with 1 Axes>"
      ]
     },
     "metadata": {},
     "output_type": "display_data"
    },
    {
     "name": "stdout",
     "output_type": "stream",
     "text": [
      "Max Value :   12362.3\n",
      "Min Value :   854.2\n"
     ]
    }
   ],
   "source": [
    "plot(data_nifty_50,\"Close\",color='green')"
   ]
  },
  {
   "cell_type": "markdown",
   "id": "e7249fa3",
   "metadata": {},
   "source": [
    "here we can see the max value goes up to 12362.3 in 2020 and min value of index is 854.2 we know that why\n",
    "it is minimum in 2002 there was ressession"
   ]
  },
  {
   "cell_type": "markdown",
   "id": "96b64233",
   "metadata": {},
   "source": [
    "## lets see Bank Nifty"
   ]
  },
  {
   "cell_type": "code",
   "execution_count": 379,
   "id": "7ca61cdd",
   "metadata": {},
   "outputs": [
    {
     "data": {
      "image/png": "[encoded data removed]",
      "text/plain": [
       "<Figure size 1800x600 with 1 Axes>"
      ]
     },
     "metadata": {},
     "output_type": "display_data"
    },
    {
     "name": "stdout",
     "output_type": "stream",
     "text": [
      "Max Value :   32443.85\n",
      "Min Value :   743.7\n"
     ]
    }
   ],
   "source": [
    "plot(data_bank_nifty,\"Close\",color=\"green\")"
   ]
  },
  {
   "cell_type": "markdown",
   "id": "c21ec3ef",
   "metadata": {},
   "source": [
    "The trend is similar to nifty_50"
   ]
  },
  {
   "cell_type": "markdown",
   "id": "ef08ee95",
   "metadata": {},
   "source": [
    "## Comparing  nifty 50 and bank nifty"
   ]
  },
  {
   "cell_type": "markdown",
   "id": "2e6c3dd7",
   "metadata": {},
   "source": [
    "This can be done by dividing hole time series by the first element and multiplying by 100 to get the results in percantage"
   ]
  },
  {
   "cell_type": "code",
   "execution_count": 380,
   "id": "c49a2c4c",
   "metadata": {},
   "outputs": [],
   "source": [
    "nor_data_nifty_50=data_nifty_50[\"Close\"].div(data_nifty_50[\"Close\"].iloc[0]).mul(100)\n",
    "nor_data_bank_nifty=data_bank_nifty[\"Close\"].div(data_bank_nifty[\"Close\"].iloc[0]).mul(100)"
   ]
  },
  {
   "cell_type": "code",
   "execution_count": 381,
   "id": "9b90dc8a",
   "metadata": {},
   "outputs": [
    {
     "data": {
      "image/png": "[encoded data removed]",
      "text/plain": [
       "<Figure size 640x480 with 1 Axes>"
      ]
     },
     "metadata": {},
     "output_type": "display_data"
    }
   ],
   "source": [
    "nor_data_nifty_50.plot()\n",
    "nor_data_bank_nifty.plot()\n",
    "plt.legend(['Nifty 50','Nifty Bank'])\n",
    "plt.show()"
   ]
  },
  {
   "cell_type": "markdown",
   "id": "6c768cdf",
   "metadata": {},
   "source": [
    "# Checking for stationary "
   ]
  },
  {
   "cell_type": "markdown",
   "id": "25bc46c2",
   "metadata": {},
   "source": [
    "Stationary means constant mean and variance "
   ]
  },
  {
   "cell_type": "markdown",
   "id": "274f22b5",
   "metadata": {},
   "source": [
    "Augmented Dicky-Fuller Test (ADF)\n",
    "\n",
    "Null hypothesis - Non stationary ,\n",
    "if p values comes less than 0.05 we will reject null hypothesis"
   ]
  },
  {
   "cell_type": "code",
   "execution_count": 382,
   "id": "e2fae81a",
   "metadata": {},
   "outputs": [
    {
     "name": "stdout",
     "output_type": "stream",
     "text": [
      " ADF Stastics:-0.7655677955763271\n",
      " P Value:0.8290276704492103\n",
      "critical values:\n",
      "1%,-3.4316494313795944\n",
      "critical values:\n",
      "5%,-2.8621142090353557\n",
      "critical values:\n",
      "10%,-2.5670756520148434\n"
     ]
    }
   ],
   "source": [
    "adf_result=adfuller(data_nifty_50[\"Close\"])\n",
    "print(f\" ADF Stastics:{adf_result[0]}\")\n",
    "print(f\" P Value:{adf_result[1]}\")\n",
    "\n",
    "for key, value in adf_result[4].items():\n",
    "    print(\"critical values:\")\n",
    "    print(f\"{key},{value}\")"
   ]
  },
  {
   "cell_type": "markdown",
   "id": "36b1aef6",
   "metadata": {},
   "source": [
    " Here we can see the p values is greater than 0.05 so we cannot reject null hypothesis ie there is seasonality\n",
    "present in our dataset"
   ]
  },
  {
   "cell_type": "markdown",
   "id": "d8f3fc80",
   "metadata": {},
   "source": [
    "# Method for making time series stationary\n",
    "1. Differencing\n",
    "2.Rolling\n",
    "3.Transformation"
   ]
  },
  {
   "cell_type": "code",
   "execution_count": 383,
   "id": "06a0e7a5",
   "metadata": {},
   "outputs": [
    {
     "data": {
      "image/png": "[encoded data removed]",
      "text/plain": [
       "<Figure size 1800x600 with 1 Axes>"
      ]
     },
     "metadata": {},
     "output_type": "display_data"
    },
    {
     "name": "stdout",
     "output_type": "stream",
     "text": [
      "Max Value :   708.4000000000005\n",
      "Min Value :   -1135.2000000000007\n"
     ]
    }
   ],
   "source": [
    "plot(data_nifty_50.diff(),\"Close\",color=\"Green\")"
   ]
  },
  {
   "cell_type": "markdown",
   "id": "c3226545",
   "metadata": {},
   "source": [
    "# We can simply do it by using"
   ]
  },
  {
   "cell_type": "code",
   "execution_count": 384,
   "id": "7c494f08",
   "metadata": {},
   "outputs": [],
   "source": [
    "#data_nifty_50[\"Close_diff\"]=data_nifty_50[\"Close\"]-data_nifty_50[\"Close\"].shift(1)"
   ]
  },
  {
   "cell_type": "code",
   "execution_count": 385,
   "id": "c30a13a9",
   "metadata": {},
   "outputs": [],
   "source": [
    "#data_nifty_50[\"Close_diff\"]=data_nifty_50[\"Close_diff\"].dropna()"
   ]
  },
  {
   "cell_type": "code",
   "execution_count": 386,
   "id": "4288dd2f",
   "metadata": {},
   "outputs": [],
   "source": [
    "#plot(data_nifty_50,\"Close_diff\",color=\"Green\")"
   ]
  },
  {
   "cell_type": "markdown",
   "id": "8ab7ce18",
   "metadata": {},
   "source": [
    "# Observations\n",
    " 1.Constant Variance\n",
    " 2.No Trend"
   ]
  },
  {
   "cell_type": "markdown",
   "id": "83c2cace",
   "metadata": {},
   "source": [
    "## Window Functionssssss"
   ]
  },
  {
   "cell_type": "markdown",
   "id": "1ef99302",
   "metadata": {},
   "source": [
    "windows functions are rolling and expanding"
   ]
  },
  {
   "cell_type": "code",
   "execution_count": 387,
   "id": "6676e4c0",
   "metadata": {},
   "outputs": [],
   "source": [
    "partof_data=data_nifty_50[\"2016\":\"2020\"]"
   ]
  },
  {
   "cell_type": "code",
   "execution_count": 388,
   "id": "838b31b8",
   "metadata": {},
   "outputs": [],
   "source": [
    "rolling_data_nifty_10=partof_data.rolling(window=10).mean()\n",
    "rolling_data_nifty_30=partof_data.rolling(window=30).mean()\n",
    "rolling_data_nifty_100=partof_data.rolling(window=100).mean()"
   ]
  },
  {
   "cell_type": "code",
   "execution_count": 389,
   "id": "7c3095c4",
   "metadata": {},
   "outputs": [
    {
     "data": {
      "image/png": "[encoded data removed]",
      "text/plain": [
       "<Figure size 2000x500 with 1 Axes>"
      ]
     },
     "metadata": {},
     "output_type": "display_data"
    }
   ],
   "source": [
    "fig, ax = plt.subplots(figsize=(20,5))\n",
    "\n",
    "ax.plot(rolling_data_nifty_10.index, rolling_data_nifty_10)\n",
    "ax.plot(rolling_data_nifty_30.index, rolling_data_nifty_30)\n",
    "ax.plot(rolling_data_nifty_100.index, rolling_data_nifty_100)\n",
    "\n",
    "ax.plot(partof_data.index,partof_data['Close'])\n",
    "ax.set_title(\"Plotting a rolling mean of 10,30,100\")\n",
    "plt.legend(['Data','10','30','100'])\n",
    "plt.show()"
   ]
  },
  {
   "cell_type": "markdown",
   "id": "431c7b7e",
   "metadata": {},
   "source": [
    "# Finincial chart"
   ]
  },
  {
   "cell_type": "markdown",
   "id": "e21458c7",
   "metadata": {},
   "source": [
    "# 1. OHCL"
   ]
  },
  {
   "cell_type": "code",
   "execution_count": 390,
   "id": "d3f8694a",
   "metadata": {},
   "outputs": [],
   "source": [
    "OHLC_data = data_nifty_50['3-2018':'12-2018']"
   ]
  },
  {
   "cell_type": "code",
   "execution_count": 391,
   "id": "b328f0ac",
   "metadata": {},
   "outputs": [],
   "source": [
    "fig = go.Figure(data=go.Ohlc(x=OHLC_data.index,\n",
    "                            open=OHLC_data['Open'],\n",
    "                            high=OHLC_data['High'],\n",
    "                            low=OHLC_data['Low'],\n",
    "                            close=OHLC_data['Close']))"
   ]
  },
  {
   "cell_type": "code",
   "execution_count": 392,
   "id": "5df6b0a0",
   "metadata": {},
   "outputs": [
    {
     "data": {
      "application/vnd.plotly.v1+json": {
       "config": {
        "plotlyServerURL": "https://plot.ly"
       },
       "data": [
        {
         "close": [
          10458.35,
          10358.85,
          10249.25,
          10154.2,
          10242.65,
          10226.85,
          10421.4,
          10426.85,
          10410.9,
          10360.15,
          10195.15,
          10094.25,
          10124.35,
          10155.25,
          10114.75,
          9998.05,
          10130.65,
          10184.15,
          10113.7,
          10211.8,
          10245,
          10128.4,
          10325.15,
          10331.6,
          10379.35,
          10402.25,
          10417.15,
          10458.65,
          10480.6,
          10528.35,
          10548.7,
          10526.2,
          10565.3,
          10564.05,
          10584.7,
          10614.35,
          10570.55,
          10617.8,
          10692.3,
          10739.35,
          10718.05,
          10679.65,
          10618.25,
          10715.5,
          10717.8,
          10741.7,
          10716.55,
          10806.5,
          10806.6,
          10801.85,
          10741.1,
          10682.7,
          10596.4,
          10516.7,
          10536.7,
          10430.35,
          10513.85,
          10605.15,
          10688.65,
          10633.3,
          10614.35,
          10736.15,
          10696.2,
          10628.5,
          10593.15,
          10684.65,
          10768.35,
          10767.65,
          10786.95,
          10842.85,
          10856.7,
          10808.05,
          10817.7,
          10799.85,
          10710.45,
          10772.05,
          10741.1,
          10821.85,
          10762.45,
          10769.15,
          10671.4,
          10589.1,
          10714.3,
          10657.3,
          10699.9,
          10769.9,
          10749.75,
          10772.65,
          10852.9,
          10947.25,
          10948.3,
          11023.2,
          11018.9,
          10936.85,
          11008.05,
          10980.45,
          10957.1,
          11010.2,
          11084.75,
          11134.3,
          11132,
          11167.3,
          11278.35,
          11319.55,
          11356.5,
          11346.2,
          11244.7,
          11360.8,
          11387.1,
          11389.45,
          11450,
          11470.7,
          11429.5,
          11355.75,
          11435.1,
          11385.05,
          11470.75,
          11551.75,
          11570.9,
          11582.75,
          11557.1,
          11691.95,
          11738.5,
          11691.9,
          11676.8,
          11680.5,
          11582.35,
          11520.3,
          11476.95,
          11536.9,
          11589.1,
          11438.1,
          11287.5,
          11369.9,
          11515.2,
          11377.75,
          11278.9,
          11234.35,
          11143.1,
          10967.4,
          11067.45,
          11053.8,
          10977.55,
          10930.45,
          11008.3,
          10858.25,
          10599.25,
          10316.45,
          10348.05,
          10301.05,
          10460.1,
          10234.65,
          10472.5,
          10512.5,
          10584.75,
          10453.05,
          10303.55,
          10245.25,
          10146.8,
          10224.75,
          10124.9,
          10030,
          10250.85,
          10198.4,
          10386.6,
          10380.45,
          10553,
          10524,
          10530,
          10598.4,
          10585.2,
          10482.2,
          10582.5,
          10576.3,
          10616.7,
          10682.2,
          10763.4,
          10656.2,
          10600.05,
          10526.75,
          10628.6,
          10685.6,
          10728.85,
          10858.7,
          10876.75,
          10883.75,
          10869.5,
          10782.9,
          10601.15,
          10693.7,
          10488.45,
          10549.15,
          10737.6,
          10791.55,
          10805.45,
          10888.35,
          10908.7,
          10967.3,
          10951.7,
          10754,
          10663.5,
          10729.85,
          10779.8,
          10859.9,
          10862.55
         ],
         "high": [
          10525.5,
          10428.7,
          10441.35,
          10243.35,
          10270.35,
          10296.7,
          10433.65,
          10478.6,
          10420.35,
          10420,
          10346.3,
          10224.55,
          10155.65,
          10227.3,
          10207.85,
          10027.7,
          10143.5,
          10207.9,
          10158.35,
          10220.1,
          10255.35,
          10279.85,
          10331.8,
          10350.45,
          10397.7,
          10424.85,
          10428.15,
          10469.9,
          10519.9,
          10540.15,
          10560.45,
          10594.2,
          10572.2,
          10582.35,
          10638.35,
          10636.8,
          10612.6,
          10628.4,
          10719.8,
          10759,
          10784.65,
          10720.6,
          10700.45,
          10725.65,
          10758.55,
          10766.25,
          10785.55,
          10812.05,
          10834.85,
          10929.2,
          10790.45,
          10777.25,
          10674.95,
          10621.7,
          10558.6,
          10533.55,
          10535.15,
          10628.05,
          10709.8,
          10717.25,
          10648.7,
          10763.8,
          10764.75,
          10770.3,
          10633.15,
          10698.35,
          10818,
          10779.45,
          10850.55,
          10856.55,
          10893.25,
          10833.7,
          10834,
          10830.2,
          10789.45,
          10781.8,
          10809.6,
          10837,
          10831.05,
          10805.25,
          10785.5,
          10674.2,
          10723.05,
          10736.15,
          10713.3,
          10777.15,
          10786.05,
          10816.35,
          10860.35,
          10956.9,
          10976.65,
          11078.3,
          11071.35,
          11019.5,
          11018.5,
          11076.2,
          11006.5,
          11030.25,
          11093.4,
          11143.4,
          11157.15,
          11185.85,
          11283.4,
          11328.1,
          11366,
          11390.55,
          11328.9,
          11368,
          11427.65,
          11428.95,
          11459.95,
          11495.2,
          11478.75,
          11406.3,
          11452.45,
          11449.85,
          11486.45,
          11565.3,
          11581.75,
          11620.7,
          11604.6,
          11700.95,
          11760.2,
          11753.2,
          11698.8,
          11727.65,
          11751.8,
          11602.55,
          11542.65,
          11562.25,
          11603,
          11573,
          11479.4,
          11380.75,
          11523.25,
          11464.95,
          11411.45,
          11332.05,
          11346.8,
          11170.15,
          11080.6,
          11145.55,
          11089.45,
          11034.1,
          11035.65,
          10989.05,
          10754.7,
          10540.65,
          10398.35,
          10397.6,
          10482.35,
          10335.95,
          10492.45,
          10526.3,
          10604.9,
          10710.15,
          10380.1,
          10408.55,
          10222.1,
          10290.65,
          10166.6,
          10128.85,
          10275.3,
          10285.1,
          10396,
          10441.9,
          10606.95,
          10558.8,
          10600.25,
          10616.45,
          10619.55,
          10645.5,
          10596.25,
          10651.6,
          10646.5,
          10695.15,
          10774.7,
          10740.85,
          10671.3,
          10646.25,
          10637.8,
          10695.15,
          10757.8,
          10883.05,
          10922.45,
          10941.2,
          10890.95,
          10821.05,
          10722.65,
          10704.55,
          10558.85,
          10567.15,
          10752.2,
          10838.6,
          10815.75,
          10900.35,
          10915.4,
          10985.15,
          10962.55,
          10963.65,
          10782.3,
          10747.5,
          10834.2,
          10893.6,
          10923.55
         ],
         "low": [
          10447.15,
          10323.9,
          10215.9,
          10141.55,
          10146.4,
          10211.9,
          10295.45,
          10377.85,
          10336.3,
          10346.2,
          10180.25,
          10075.3,
          10049.1,
          10132.95,
          10105.4,
          9951.9,
          9958.55,
          10139.65,
          10096.9,
          10127.75,
          10171.05,
          10111.3,
          10227.45,
          10290.85,
          10328.5,
          10381.5,
          10355.6,
          10395.25,
          10451.45,
          10396.35,
          10495.65,
          10509.7,
          10546.2,
          10527.45,
          10514.95,
          10569,
          10536.45,
          10559.65,
          10647.55,
          10704.6,
          10689.8,
          10647.45,
          10601.6,
          10635.65,
          10689.4,
          10689.85,
          10705,
          10724.45,
          10774.75,
          10781.4,
          10699.7,
          10664.5,
          10589.1,
          10505.8,
          10490.55,
          10417.8,
          10419.8,
          10524,
          10640.55,
          10616.1,
          10558.45,
          10620.4,
          10681.5,
          10618.35,
          10550.9,
          10587.5,
          10722.6,
          10709.05,
          10777.05,
          10789.4,
          10842.65,
          10773.55,
          10755.4,
          10787.35,
          10701.2,
          10724.05,
          10725.9,
          10710.45,
          10753.05,
          10732.55,
          10652.4,
          10557.7,
          10612.35,
          10604.65,
          10630.25,
          10677.75,
          10726.25,
          10735.05,
          10807.15,
          10876.65,
          10923,
          10999.65,
          10999.75,
          10926.25,
          10925.6,
          10956.3,
          10935.45,
          10946.2,
          11010.95,
          11092.5,
          11113.25,
          11125.7,
          11210.25,
          11261.45,
          11267.75,
          11313.55,
          11234.95,
          11294.55,
          11370.6,
          11359.7,
          11379.3,
          11454.1,
          11419.65,
          11340.3,
          11370.8,
          11366.25,
          11431.8,
          11499.65,
          11539.6,
          11546.7,
          11532,
          11595.6,
          11710.5,
          11678.85,
          11639.7,
          11640.1,
          11567.4,
          11496.85,
          11393.85,
          11436.05,
          11484.4,
          11427.3,
          11274,
          11250.2,
          11430.55,
          11366.9,
          11268.95,
          11210.9,
          10866.45,
          10943.6,
          10882.85,
          10993.05,
          10953.35,
          10850.3,
          10821.55,
          10843.75,
          10547.25,
          10261.9,
          10198.4,
          10279.35,
          10318.25,
          10138.6,
          10322.15,
          10410.15,
          10525.3,
          10436.45,
          10249.6,
          10224,
          10102.35,
          10126.7,
          10079.3,
          10004.55,
          10020.35,
          10175.35,
          10105.1,
          10341.9,
          10457.7,
          10477,
          10491.45,
          10582.3,
          10544.85,
          10464.05,
          10440.55,
          10532.7,
          10557.5,
          10631.15,
          10688.8,
          10640.85,
          10562.35,
          10512,
          10489.75,
          10596.35,
          10699.85,
          10782.35,
          10835.1,
          10845.35,
          10833.35,
          10747.95,
          10588.25,
          10599.35,
          10474.95,
          10333.85,
          10560.8,
          10749.5,
          10752.1,
          10844.85,
          10819.1,
          10928,
          10880.05,
          10738.65,
          10649.25,
          10534.55,
          10764.45,
          10817.15,
          10853.2
         ],
         "open": [
          10479.95,
          10428.3,
          10420.5,
          10232.95,
          10216.25,
          10271.3,
          10301.6,
          10389.5,
          10393.05,
          10405.45,
          10345.15,
          10215.35,
          10051.55,
          10181.95,
          10167.5,
          9968.8,
          9989.15,
          10188,
          10143.6,
          10151.65,
          10186.85,
          10274.6,
          10228.45,
          10322.75,
          10333.7,
          10412.9,
          10428.15,
          10410.65,
          10495.3,
          10398.3,
          10557.3,
          10578.9,
          10563.65,
          10560.35,
          10592.8,
          10578.1,
          10612.4,
          10586.5,
          10651.65,
          10705.75,
          10783.85,
          10720.15,
          10700.45,
          10653.15,
          10757.9,
          10693.35,
          10779.65,
          10741.95,
          10815.15,
          10812.6,
          10751.95,
          10775.6,
          10671.85,
          10616.7,
          10518.45,
          10521.1,
          10464.85,
          10533.05,
          10648.35,
          10689.4,
          10579,
          10670.1,
          10738.45,
          10765.95,
          10630.7,
          10603.45,
          10722.6,
          10736.4,
          10781.85,
          10816.15,
          10887.5,
          10832.9,
          10808.65,
          10830.2,
          10789.45,
          10734.65,
          10808.45,
          10742.7,
          10822.9,
          10742.7,
          10785.5,
          10660.8,
          10612.85,
          10732.35,
          10668.6,
          10715,
          10786.05,
          10744.15,
          10838.3,
          10902.75,
          10956.4,
          11006.95,
          11056.9,
          11018.95,
          10939.65,
          11060.2,
          10999.5,
          10963.5,
          11019.85,
          11109,
          11148.4,
          11132.95,
          11232.75,
          11296.65,
          11311.05,
          11359.8,
          11328.9,
          11297.8,
          11401.5,
          11423.15,
          11412.5,
          11493.25,
          11474.95,
          11369.6,
          11381.7,
          11397.15,
          11437.15,
          11502.1,
          11576.2,
          11620.7,
          11566.6,
          11605.85,
          11731.95,
          11744.95,
          11694.75,
          11675.85,
          11751.8,
          11598.75,
          11514.85,
          11514.15,
          11558.25,
          11570.25,
          11476.85,
          11340.1,
          11443.5,
          11464.95,
          11381.55,
          11326.65,
          11271.3,
          11164.4,
          10969.95,
          11145.55,
          11079.8,
          11008.1,
          10930.9,
          10982.7,
          10754.7,
          10514.1,
          10310.15,
          10390.3,
          10331.85,
          10169.8,
          10331.55,
          10524.2,
          10550.15,
          10688.7,
          10339.7,
          10405.85,
          10152.6,
          10278.15,
          10135.05,
          10122.35,
          10078.1,
          10239.4,
          10209.55,
          10441.7,
          10462.3,
          10558.75,
          10552,
          10614.45,
          10614.7,
          10607.8,
          10451.9,
          10634.9,
          10580.6,
          10644,
          10731.25,
          10740.1,
          10670.95,
          10612.65,
          10568.3,
          10621.45,
          10708.75,
          10808.7,
          10892.1,
          10930.7,
          10877.1,
          10820.45,
          10718.15,
          10644.8,
          10508.7,
          10350.05,
          10591,
          10810.75,
          10784.5,
          10853.2,
          10850.9,
          10930.55,
          10885.2,
          10944.25,
          10780.9,
          10635.45,
          10817.9,
          10820.95,
          10913.2
         ],
         "type": "ohlc",
         "x": [
          "2018-03-01T00:00:00",
          "2018-03-05T00:00:00",
          "2018-03-06T00:00:00",
          "2018-03-07T00:00:00",
          "2018-03-08T00:00:00",
          "2018-03-09T00:00:00",
          "2018-03-12T00:00:00",
          "2018-03-13T00:00:00",
          "2018-03-14T00:00:00",
          "2018-03-15T00:00:00",
          "2018-03-16T00:00:00",
          "2018-03-19T00:00:00",
          "2018-03-20T00:00:00",
          "2018-03-21T00:00:00",
          "2018-03-22T00:00:00",
          "2018-03-23T00:00:00",
          "2018-03-26T00:00:00",
          "2018-03-27T00:00:00",
          "2018-03-28T00:00:00",
          "2018-04-02T00:00:00",
          "2018-04-03T00:00:00",
          "2018-04-04T00:00:00",
          "2018-04-05T00:00:00",
          "2018-04-06T00:00:00",
          "2018-04-09T00:00:00",
          "2018-04-10T00:00:00",
          "2018-04-11T00:00:00",
          "2018-04-12T00:00:00",
          "2018-04-13T00:00:00",
          "2018-04-16T00:00:00",
          "2018-04-17T00:00:00",
          "2018-04-18T00:00:00",
          "2018-04-19T00:00:00",
          "2018-04-20T00:00:00",
          "2018-04-23T00:00:00",
          "2018-04-24T00:00:00",
          "2018-04-25T00:00:00",
          "2018-04-26T00:00:00",
          "2018-04-27T00:00:00",
          "2018-04-30T00:00:00",
          "2018-05-02T00:00:00",
          "2018-05-03T00:00:00",
          "2018-05-04T00:00:00",
          "2018-05-07T00:00:00",
          "2018-05-08T00:00:00",
          "2018-05-09T00:00:00",
          "2018-05-10T00:00:00",
          "2018-05-11T00:00:00",
          "2018-05-14T00:00:00",
          "2018-05-15T00:00:00",
          "2018-05-16T00:00:00",
          "2018-05-17T00:00:00",
          "2018-05-18T00:00:00",
          "2018-05-21T00:00:00",
          "2018-05-22T00:00:00",
          "2018-05-23T00:00:00",
          "2018-05-24T00:00:00",
          "2018-05-25T00:00:00",
          "2018-05-28T00:00:00",
          "2018-05-29T00:00:00",
          "2018-05-30T00:00:00",
          "2018-05-31T00:00:00",
          "2018-06-01T00:00:00",
          "2018-06-04T00:00:00",
          "2018-06-05T00:00:00",
          "2018-06-06T00:00:00",
          "2018-06-07T00:00:00",
          "2018-06-08T00:00:00",
          "2018-06-11T00:00:00",
          "2018-06-12T00:00:00",
          "2018-06-13T00:00:00",
          "2018-06-14T00:00:00",
          "2018-06-15T00:00:00",
          "2018-06-18T00:00:00",
          "2018-06-19T00:00:00",
          "2018-06-20T00:00:00",
          "2018-06-21T00:00:00",
          "2018-06-22T00:00:00",
          "2018-06-25T00:00:00",
          "2018-06-26T00:00:00",
          "2018-06-27T00:00:00",
          "2018-06-28T00:00:00",
          "2018-06-29T00:00:00",
          "2018-07-02T00:00:00",
          "2018-07-03T00:00:00",
          "2018-07-04T00:00:00",
          "2018-07-05T00:00:00",
          "2018-07-06T00:00:00",
          "2018-07-09T00:00:00",
          "2018-07-10T00:00:00",
          "2018-07-11T00:00:00",
          "2018-07-12T00:00:00",
          "2018-07-13T00:00:00",
          "2018-07-16T00:00:00",
          "2018-07-17T00:00:00",
          "2018-07-18T00:00:00",
          "2018-07-19T00:00:00",
          "2018-07-20T00:00:00",
          "2018-07-23T00:00:00",
          "2018-07-24T00:00:00",
          "2018-07-25T00:00:00",
          "2018-07-26T00:00:00",
          "2018-07-27T00:00:00",
          "2018-07-30T00:00:00",
          "2018-07-31T00:00:00",
          "2018-08-01T00:00:00",
          "2018-08-02T00:00:00",
          "2018-08-03T00:00:00",
          "2018-08-06T00:00:00",
          "2018-08-07T00:00:00",
          "2018-08-08T00:00:00",
          "2018-08-09T00:00:00",
          "2018-08-10T00:00:00",
          "2018-08-13T00:00:00",
          "2018-08-14T00:00:00",
          "2018-08-16T00:00:00",
          "2018-08-17T00:00:00",
          "2018-08-20T00:00:00",
          "2018-08-21T00:00:00",
          "2018-08-23T00:00:00",
          "2018-08-24T00:00:00",
          "2018-08-27T00:00:00",
          "2018-08-28T00:00:00",
          "2018-08-29T00:00:00",
          "2018-08-30T00:00:00",
          "2018-08-31T00:00:00",
          "2018-09-03T00:00:00",
          "2018-09-04T00:00:00",
          "2018-09-05T00:00:00",
          "2018-09-06T00:00:00",
          "2018-09-07T00:00:00",
          "2018-09-10T00:00:00",
          "2018-09-11T00:00:00",
          "2018-09-12T00:00:00",
          "2018-09-14T00:00:00",
          "2018-09-17T00:00:00",
          "2018-09-18T00:00:00",
          "2018-09-19T00:00:00",
          "2018-09-21T00:00:00",
          "2018-09-24T00:00:00",
          "2018-09-25T00:00:00",
          "2018-09-26T00:00:00",
          "2018-09-27T00:00:00",
          "2018-09-28T00:00:00",
          "2018-10-01T00:00:00",
          "2018-10-03T00:00:00",
          "2018-10-04T00:00:00",
          "2018-10-05T00:00:00",
          "2018-10-08T00:00:00",
          "2018-10-09T00:00:00",
          "2018-10-10T00:00:00",
          "2018-10-11T00:00:00",
          "2018-10-12T00:00:00",
          "2018-10-15T00:00:00",
          "2018-10-16T00:00:00",
          "2018-10-17T00:00:00",
          "2018-10-19T00:00:00",
          "2018-10-22T00:00:00",
          "2018-10-23T00:00:00",
          "2018-10-24T00:00:00",
          "2018-10-25T00:00:00",
          "2018-10-26T00:00:00",
          "2018-10-29T00:00:00",
          "2018-10-30T00:00:00",
          "2018-10-31T00:00:00",
          "2018-11-01T00:00:00",
          "2018-11-02T00:00:00",
          "2018-11-05T00:00:00",
          "2018-11-06T00:00:00",
          "2018-11-07T00:00:00",
          "2018-11-09T00:00:00",
          "2018-11-12T00:00:00",
          "2018-11-13T00:00:00",
          "2018-11-14T00:00:00",
          "2018-11-15T00:00:00",
          "2018-11-16T00:00:00",
          "2018-11-19T00:00:00",
          "2018-11-20T00:00:00",
          "2018-11-21T00:00:00",
          "2018-11-22T00:00:00",
          "2018-11-26T00:00:00",
          "2018-11-27T00:00:00",
          "2018-11-28T00:00:00",
          "2018-11-29T00:00:00",
          "2018-11-30T00:00:00",
          "2018-12-03T00:00:00",
          "2018-12-04T00:00:00",
          "2018-12-05T00:00:00",
          "2018-12-06T00:00:00",
          "2018-12-07T00:00:00",
          "2018-12-10T00:00:00",
          "2018-12-11T00:00:00",
          "2018-12-12T00:00:00",
          "2018-12-13T00:00:00",
          "2018-12-14T00:00:00",
          "2018-12-17T00:00:00",
          "2018-12-18T00:00:00",
          "2018-12-19T00:00:00",
          "2018-12-20T00:00:00",
          "2018-12-21T00:00:00",
          "2018-12-24T00:00:00",
          "2018-12-26T00:00:00",
          "2018-12-27T00:00:00",
          "2018-12-28T00:00:00",
          "2018-12-31T00:00:00"
         ]
        }
       ],
       "layout": {
        "template": {
         "data": {
          "bar": [
           {
            "error_x": {
             "color": "#2a3f5f"
            },
            "error_y": {
             "color": "#2a3f5f"
            },
            "marker": {
             "line": {
              "color": "#E5ECF6",
              "width": 0.5
             },
             "pattern": {
              "fillmode": "overlay",
              "size": 10,
              "solidity": 0.2
             }
            },
            "type": "bar"
           }
          ],
          "barpolar": [
           {
            "marker": {
             "line": {
              "color": "#E5ECF6",
              "width": 0.5
             },
             "pattern": {
              "fillmode": "overlay",
              "size": 10,
              "solidity": 0.2
             }
            },
            "type": "barpolar"
           }
          ],
          "carpet": [
           {
            "aaxis": {
             "endlinecolor": "#2a3f5f",
             "gridcolor": "white",
             "linecolor": "white",
             "minorgridcolor": "white",
             "startlinecolor": "#2a3f5f"
            },
            "baxis": {
             "endlinecolor": "#2a3f5f",
             "gridcolor": "white",
             "linecolor": "white",
             "minorgridcolor": "white",
             "startlinecolor": "#2a3f5f"
            },
            "type": "carpet"
           }
          ],
          "choropleth": [
           {
            "colorbar": {
             "outlinewidth": 0,
             "ticks": ""
            },
            "type": "choropleth"
           }
          ],
          "contour": [
           {
            "colorbar": {
             "outlinewidth": 0,
             "ticks": ""
            },
            "colorscale": [
             [
              0,
              "#0d0887"
             ],
             [
              0.1111111111111111,
              "#46039f"
             ],
             [
              0.2222222222222222,
              "#7201a8"
             ],
             [
              0.3333333333333333,
              "#9c179e"
             ],
             [
              0.4444444444444444,
              "#bd3786"
             ],
             [
              0.5555555555555556,
              "#d8576b"
             ],
             [
              0.6666666666666666,
              "#ed7953"
             ],
             [
              0.7777777777777778,
              "#fb9f3a"
             ],
             [
              0.8888888888888888,
              "#fdca26"
             ],
             [
              1,
              "#f0f921"
             ]
            ],
            "type": "contour"
           }
          ],
          "contourcarpet": [
           {
            "colorbar": {
             "outlinewidth": 0,
             "ticks": ""
            },
            "type": "contourcarpet"
           }
          ],
          "heatmap": [
           {
            "colorbar": {
             "outlinewidth": 0,
             "ticks": ""
            },
            "colorscale": [
             [
              0,
              "#0d0887"
             ],
             [
              0.1111111111111111,
              "#46039f"
             ],
             [
              0.2222222222222222,
              "#7201a8"
             ],
             [
              0.3333333333333333,
              "#9c179e"
             ],
             [
              0.4444444444444444,
              "#bd3786"
             ],
             [
              0.5555555555555556,
              "#d8576b"
             ],
             [
              0.6666666666666666,
              "#ed7953"
             ],
             [
              0.7777777777777778,
              "#fb9f3a"
             ],
             [
              0.8888888888888888,
              "#fdca26"
             ],
             [
              1,
              "#f0f921"
             ]
            ],
            "type": "heatmap"
           }
          ],
          "heatmapgl": [
           {
            "colorbar": {
             "outlinewidth": 0,
             "ticks": ""
            },
            "colorscale": [
             [
              0,
              "#0d0887"
             ],
             [
              0.1111111111111111,
              "#46039f"
             ],
             [
              0.2222222222222222,
              "#7201a8"
             ],
             [
              0.3333333333333333,
              "#9c179e"
             ],
             [
              0.4444444444444444,
              "#bd3786"
             ],
             [
              0.5555555555555556,
              "#d8576b"
             ],
             [
              0.6666666666666666,
              "#ed7953"
             ],
             [
              0.7777777777777778,
              "#fb9f3a"
             ],
             [
              0.8888888888888888,
              "#fdca26"
             ],
             [
              1,
              "#f0f921"
             ]
            ],
            "type": "heatmapgl"
           }
          ],
          "histogram": [
           {
            "marker": {
             "pattern": {
              "fillmode": "overlay",
              "size": 10,
              "solidity": 0.2
             }
            },
            "type": "histogram"
           }
          ],
          "histogram2d": [
           {
            "colorbar": {
             "outlinewidth": 0,
             "ticks": ""
            },
            "colorscale": [
             [
              0,
              "#0d0887"
             ],
             [
              0.1111111111111111,
              "#46039f"
             ],
             [
              0.2222222222222222,
              "#7201a8"
             ],
             [
              0.3333333333333333,
              "#9c179e"
             ],
             [
              0.4444444444444444,
              "#bd3786"
             ],
             [
              0.5555555555555556,
              "#d8576b"
             ],
             [
              0.6666666666666666,
              "#ed7953"
             ],
             [
              0.7777777777777778,
              "#fb9f3a"
             ],
             [
              0.8888888888888888,
              "#fdca26"
             ],
             [
              1,
              "#f0f921"
             ]
            ],
            "type": "histogram2d"
           }
          ],
          "histogram2dcontour": [
           {
            "colorbar": {
             "outlinewidth": 0,
             "ticks": ""
            },
            "colorscale": [
             [
              0,
              "#0d0887"
             ],
             [
              0.1111111111111111,
              "#46039f"
             ],
             [
              0.2222222222222222,
              "#7201a8"
             ],
             [
              0.3333333333333333,
              "#9c179e"
             ],
             [
              0.4444444444444444,
              "#bd3786"
             ],
             [
              0.5555555555555556,
              "#d8576b"
             ],
             [
              0.6666666666666666,
              "#ed7953"
             ],
             [
              0.7777777777777778,
              "#fb9f3a"
             ],
             [
              0.8888888888888888,
              "#fdca26"
             ],
             [
              1,
              "#f0f921"
             ]
            ],
            "type": "histogram2dcontour"
           }
          ],
          "mesh3d": [
           {
            "colorbar": {
             "outlinewidth": 0,
             "ticks": ""
            },
            "type": "mesh3d"
           }
          ],
          "parcoords": [
           {
            "line": {
             "colorbar": {
              "outlinewidth": 0,
              "ticks": ""
             }
            },
            "type": "parcoords"
           }
          ],
          "pie": [
           {
            "automargin": true,
            "type": "pie"
           }
          ],
          "scatter": [
           {
            "fillpattern": {
             "fillmode": "overlay",
             "size": 10,
             "solidity": 0.2
            },
            "type": "scatter"
           }
          ],
          "scatter3d": [
           {
            "line": {
             "colorbar": {
              "outlinewidth": 0,
              "ticks": ""
             }
            },
            "marker": {
             "colorbar": {
              "outlinewidth": 0,
              "ticks": ""
             }
            },
            "type": "scatter3d"
           }
          ],
          "scattercarpet": [
           {
            "marker": {
             "colorbar": {
              "outlinewidth": 0,
              "ticks": ""
             }
            },
            "type": "scattercarpet"
           }
          ],
          "scattergeo": [
           {
            "marker": {
             "colorbar": {
              "outlinewidth": 0,
              "ticks": ""
             }
            },
            "type": "scattergeo"
           }
          ],
          "scattergl": [
           {
            "marker": {
             "colorbar": {
              "outlinewidth": 0,
              "ticks": ""
             }
            },
            "type": "scattergl"
           }
          ],
          "scattermapbox": [
           {
            "marker": {
             "colorbar": {
              "outlinewidth": 0,
              "ticks": ""
             }
            },
            "type": "scattermapbox"
           }
          ],
          "scatterpolar": [
           {
            "marker": {
             "colorbar": {
              "outlinewidth": 0,
              "ticks": ""
             }
            },
            "type": "scatterpolar"
           }
          ],
          "scatterpolargl": [
           {
            "marker": {
             "colorbar": {
              "outlinewidth": 0,
              "ticks": ""
             }
            },
            "type": "scatterpolargl"
           }
          ],
          "scatterternary": [
           {
            "marker": {
             "colorbar": {
              "outlinewidth": 0,
              "ticks": ""
             }
            },
            "type": "scatterternary"
           }
          ],
          "surface": [
           {
            "colorbar": {
             "outlinewidth": 0,
             "ticks": ""
            },
            "colorscale": [
             [
              0,
              "#0d0887"
             ],
             [
              0.1111111111111111,
              "#46039f"
             ],
             [
              0.2222222222222222,
              "#7201a8"
             ],
             [
              0.3333333333333333,
              "#9c179e"
             ],
             [
              0.4444444444444444,
              "#bd3786"
             ],
             [
              0.5555555555555556,
              "#d8576b"
             ],
             [
              0.6666666666666666,
              "#ed7953"
             ],
             [
              0.7777777777777778,
              "#fb9f3a"
             ],
             [
              0.8888888888888888,
              "#fdca26"
             ],
             [
              1,
              "#f0f921"
             ]
            ],
            "type": "surface"
           }
          ],
          "table": [
           {
            "cells": {
             "fill": {
              "color": "#EBF0F8"
             },
             "line": {
              "color": "white"
             }
            },
            "header": {
             "fill": {
              "color": "#C8D4E3"
             },
             "line": {
              "color": "white"
             }
            },
            "type": "table"
           }
          ]
         },
         "layout": {
          "annotationdefaults": {
           "arrowcolor": "#2a3f5f",
           "arrowhead": 0,
           "arrowwidth": 1
          },
          "autotypenumbers": "strict",
          "coloraxis": {
           "colorbar": {
            "outlinewidth": 0,
            "ticks": ""
           }
          },
          "colorscale": {
           "diverging": [
            [
             0,
             "#8e0152"
            ],
            [
             0.1,
             "#c51b7d"
            ],
            [
             0.2,
             "#de77ae"
            ],
            [
             0.3,
             "#f1b6da"
            ],
            [
             0.4,
             "#fde0ef"
            ],
            [
             0.5,
             "#f7f7f7"
            ],
            [
             0.6,
             "#e6f5d0"
            ],
            [
             0.7,
             "#b8e186"
            ],
            [
             0.8,
             "#7fbc41"
            ],
            [
             0.9,
             "#4d9221"
            ],
            [
             1,
             "#276419"
            ]
           ],
           "sequential": [
            [
             0,
             "#0d0887"
            ],
            [
             0.1111111111111111,
             "#46039f"
            ],
            [
             0.2222222222222222,
             "#7201a8"
            ],
            [
             0.3333333333333333,
             "#9c179e"
            ],
            [
             0.4444444444444444,
             "#bd3786"
            ],
            [
             0.5555555555555556,
             "#d8576b"
            ],
            [
             0.6666666666666666,
             "#ed7953"
            ],
            [
             0.7777777777777778,
             "#fb9f3a"
            ],
            [
             0.8888888888888888,
             "#fdca26"
            ],
            [
             1,
             "#f0f921"
            ]
           ],
           "sequentialminus": [
            [
             0,
             "#0d0887"
            ],
            [
             0.1111111111111111,
             "#46039f"
            ],
            [
             0.2222222222222222,
             "#7201a8"
            ],
            [
             0.3333333333333333,
             "#9c179e"
            ],
            [
             0.4444444444444444,
             "#bd3786"
            ],
            [
             0.5555555555555556,
             "#d8576b"
            ],
            [
             0.6666666666666666,
             "#ed7953"
            ],
            [
             0.7777777777777778,
             "#fb9f3a"
            ],
            [
             0.8888888888888888,
             "#fdca26"
            ],
            [
             1,
             "#f0f921"
            ]
           ]
          },
          "colorway": [
           "#636efa",
           "#EF553B",
           "#00cc96",
           "#ab63fa",
           "#FFA15A",
           "#19d3f3",
           "#FF6692",
           "#B6E880",
           "#FF97FF",
           "#FECB52"
          ],
          "font": {
           "color": "#2a3f5f"
          },
          "geo": {
           "bgcolor": "white",
           "lakecolor": "white",
           "landcolor": "#E5ECF6",
           "showlakes": true,
           "showland": true,
           "subunitcolor": "white"
          },
          "hoverlabel": {
           "align": "left"
          },
          "hovermode": "closest",
          "mapbox": {
           "style": "light"
          },
          "paper_bgcolor": "white",
          "plot_bgcolor": "#E5ECF6",
          "polar": {
           "angularaxis": {
            "gridcolor": "white",
            "linecolor": "white",
            "ticks": ""
           },
           "bgcolor": "#E5ECF6",
           "radialaxis": {
            "gridcolor": "white",
            "linecolor": "white",
            "ticks": ""
           }
          },
          "scene": {
           "xaxis": {
            "backgroundcolor": "#E5ECF6",
            "gridcolor": "white",
            "gridwidth": 2,
            "linecolor": "white",
            "showbackground": true,
            "ticks": "",
            "zerolinecolor": "white"
           },
           "yaxis": {
            "backgroundcolor": "#E5ECF6",
            "gridcolor": "white",
            "gridwidth": 2,
            "linecolor": "white",
            "showbackground": true,
            "ticks": "",
            "zerolinecolor": "white"
           },
           "zaxis": {
            "backgroundcolor": "#E5ECF6",
            "gridcolor": "white",
            "gridwidth": 2,
            "linecolor": "white",
            "showbackground": true,
            "ticks": "",
            "zerolinecolor": "white"
           }
          },
          "shapedefaults": {
           "line": {
            "color": "#2a3f5f"
           }
          },
          "ternary": {
           "aaxis": {
            "gridcolor": "white",
            "linecolor": "white",
            "ticks": ""
           },
           "baxis": {
            "gridcolor": "white",
            "linecolor": "white",
            "ticks": ""
           },
           "bgcolor": "#E5ECF6",
           "caxis": {
            "gridcolor": "white",
            "linecolor": "white",
            "ticks": ""
           }
          },
          "title": {
           "x": 0.05
          },
          "xaxis": {
           "automargin": true,
           "gridcolor": "white",
           "linecolor": "white",
           "ticks": "",
           "title": {
            "standoff": 15
           },
           "zerolinecolor": "white",
           "zerolinewidth": 2
          },
          "yaxis": {
           "automargin": true,
           "gridcolor": "white",
           "linecolor": "white",
           "ticks": "",
           "title": {
            "standoff": 15
           },
           "zerolinecolor": "white",
           "zerolinewidth": 2
          }
         }
        },
        "title": {
         "text": "Nifty 50 From March 2018 to Dec 2020",
         "x": 0.5,
         "xanchor": "center",
         "y": 0.9,
         "yanchor": "top"
        },
        "xaxis": {
         "rangeslider": {
          "visible": true
         },
         "title": {
          "text": "Time"
         }
        },
        "yaxis": {
         "title": {
          "text": "Price"
         }
        }
       }
      },
      "text/html": [
       "<div>                            <div id=\"cc0b0039-00fa-4c0c-a994-b1f3835dd720\" class=\"plotly-graph-div\" style=\"height:525px; width:100%;\"></div>            <script type=\"text/javascript\">                require([\"plotly\"], function(Plotly) {                    window.PLOTLYENV=window.PLOTLYENV || {};                                    if (document.getElementById(\"cc0b0039-00fa-4c0c-a994-b1f3835dd720\")) {                    Plotly.newPlot(                        \"cc0b0039-00fa-4c0c-a994-b1f3835dd720\",                        [{\"close\":[10458.35,10358.85,10249.25,10154.2,10242.65,10226.85,10421.4,10426.85,10410.9,10360.15,10195.15,10094.25,10124.35,10155.25,10114.75,9998.05,10130.65,10184.15,10113.7,10211.8,10245.0,10128.4,10325.15,10331.6,10379.35,10402.25,10417.15,10458.65,10480.6,10528.35,10548.7,10526.2,10565.3,10564.05,10584.7,10614.35,10570.55,10617.8,10692.3,10739.35,10718.05,10679.65,10618.25,10715.5,10717.8,10741.7,10716.55,10806.5,10806.6,10801.85,10741.1,10682.7,10596.4,10516.7,10536.7,10430.35,10513.85,10605.15,10688.65,10633.3,10614.35,10736.15,10696.2,10628.5,10593.15,10684.65,10768.35,10767.65,10786.95,10842.85,10856.7,10808.05,10817.7,10799.85,10710.45,10772.05,10741.1,10821.85,10762.45,10769.15,10671.4,10589.1,10714.3,10657.3,10699.9,10769.9,10749.75,10772.65,10852.9,10947.25,10948.3,11023.2,11018.9,10936.85,11008.05,10980.45,10957.1,11010.2,11084.75,11134.3,11132.0,11167.3,11278.35,11319.55,11356.5,11346.2,11244.7,11360.8,11387.1,11389.45,11450.0,11470.7,11429.5,11355.75,11435.1,11385.05,11470.75,11551.75,11570.9,11582.75,11557.1,11691.95,11738.5,11691.9,11676.8,11680.5,11582.35,11520.3,11476.95,11536.9,11589.1,11438.1,11287.5,11369.9,11515.2,11377.75,11278.9,11234.35,11143.1,10967.4,11067.45,11053.8,10977.55,10930.45,11008.3,10858.25,10599.25,10316.45,10348.05,10301.05,10460.1,10234.65,10472.5,10512.5,10584.75,10453.05,10303.55,10245.25,10146.8,10224.75,10124.9,10030.0,10250.85,10198.4,10386.6,10380.45,10553.0,10524.0,10530.0,10598.4,10585.2,10482.2,10582.5,10576.3,10616.7,10682.2,10763.4,10656.2,10600.05,10526.75,10628.6,10685.6,10728.85,10858.7,10876.75,10883.75,10869.5,10782.9,10601.15,10693.7,10488.45,10549.15,10737.6,10791.55,10805.45,10888.35,10908.7,10967.3,10951.7,10754.0,10663.5,10729.85,10779.8,10859.9,10862.55],\"high\":[10525.5,10428.7,10441.35,10243.35,10270.35,10296.7,10433.65,10478.6,10420.35,10420.0,10346.3,10224.55,10155.65,10227.3,10207.85,10027.7,10143.5,10207.9,10158.35,10220.1,10255.35,10279.85,10331.8,10350.45,10397.7,10424.85,10428.15,10469.9,10519.9,10540.15,10560.45,10594.2,10572.2,10582.35,10638.35,10636.8,10612.6,10628.4,10719.8,10759.0,10784.65,10720.6,10700.45,10725.65,10758.55,10766.25,10785.55,10812.05,10834.85,10929.2,10790.45,10777.25,10674.95,10621.7,10558.6,10533.55,10535.15,10628.05,10709.8,10717.25,10648.7,10763.8,10764.75,10770.3,10633.15,10698.35,10818.0,10779.45,10850.55,10856.55,10893.25,10833.7,10834.0,10830.2,10789.45,10781.8,10809.6,10837.0,10831.05,10805.25,10785.5,10674.2,10723.05,10736.15,10713.3,10777.15,10786.05,10816.35,10860.35,10956.9,10976.65,11078.3,11071.35,11019.5,11018.5,11076.2,11006.5,11030.25,11093.4,11143.4,11157.15,11185.85,11283.4,11328.1,11366.0,11390.55,11328.9,11368.0,11427.65,11428.95,11459.95,11495.2,11478.75,11406.3,11452.45,11449.85,11486.45,11565.3,11581.75,11620.7,11604.6,11700.95,11760.2,11753.2,11698.8,11727.65,11751.8,11602.55,11542.65,11562.25,11603.0,11573.0,11479.4,11380.75,11523.25,11464.95,11411.45,11332.05,11346.8,11170.15,11080.6,11145.55,11089.45,11034.1,11035.65,10989.05,10754.7,10540.65,10398.35,10397.6,10482.35,10335.95,10492.45,10526.3,10604.9,10710.15,10380.1,10408.55,10222.1,10290.65,10166.6,10128.85,10275.3,10285.1,10396.0,10441.9,10606.95,10558.8,10600.25,10616.45,10619.55,10645.5,10596.25,10651.6,10646.5,10695.15,10774.7,10740.85,10671.3,10646.25,10637.8,10695.15,10757.8,10883.05,10922.45,10941.2,10890.95,10821.05,10722.65,10704.55,10558.85,10567.15,10752.2,10838.6,10815.75,10900.35,10915.4,10985.15,10962.55,10963.65,10782.3,10747.5,10834.2,10893.6,10923.55],\"low\":[10447.15,10323.9,10215.9,10141.55,10146.4,10211.9,10295.45,10377.85,10336.3,10346.2,10180.25,10075.3,10049.1,10132.95,10105.4,9951.9,9958.55,10139.65,10096.9,10127.75,10171.05,10111.3,10227.45,10290.85,10328.5,10381.5,10355.6,10395.25,10451.45,10396.35,10495.65,10509.7,10546.2,10527.45,10514.95,10569.0,10536.45,10559.65,10647.55,10704.6,10689.8,10647.45,10601.6,10635.65,10689.4,10689.85,10705.0,10724.45,10774.75,10781.4,10699.7,10664.5,10589.1,10505.8,10490.55,10417.8,10419.8,10524.0,10640.55,10616.1,10558.45,10620.4,10681.5,10618.35,10550.9,10587.5,10722.6,10709.05,10777.05,10789.4,10842.65,10773.55,10755.4,10787.35,10701.2,10724.05,10725.9,10710.45,10753.05,10732.55,10652.4,10557.7,10612.35,10604.65,10630.25,10677.75,10726.25,10735.05,10807.15,10876.65,10923.0,10999.65,10999.75,10926.25,10925.6,10956.3,10935.45,10946.2,11010.95,11092.5,11113.25,11125.7,11210.25,11261.45,11267.75,11313.55,11234.95,11294.55,11370.6,11359.7,11379.3,11454.1,11419.65,11340.3,11370.8,11366.25,11431.8,11499.65,11539.6,11546.7,11532.0,11595.6,11710.5,11678.85,11639.7,11640.1,11567.4,11496.85,11393.85,11436.05,11484.4,11427.3,11274.0,11250.2,11430.55,11366.9,11268.95,11210.9,10866.45,10943.6,10882.85,10993.05,10953.35,10850.3,10821.55,10843.75,10547.25,10261.9,10198.4,10279.35,10318.25,10138.6,10322.15,10410.15,10525.3,10436.45,10249.6,10224.0,10102.35,10126.7,10079.3,10004.55,10020.35,10175.35,10105.1,10341.9,10457.7,10477.0,10491.45,10582.3,10544.85,10464.05,10440.55,10532.7,10557.5,10631.15,10688.8,10640.85,10562.35,10512.0,10489.75,10596.35,10699.85,10782.35,10835.1,10845.35,10833.35,10747.95,10588.25,10599.35,10474.95,10333.85,10560.8,10749.5,10752.1,10844.85,10819.1,10928.0,10880.05,10738.65,10649.25,10534.55,10764.45,10817.15,10853.2],\"open\":[10479.95,10428.3,10420.5,10232.95,10216.25,10271.3,10301.6,10389.5,10393.05,10405.45,10345.15,10215.35,10051.55,10181.95,10167.5,9968.8,9989.15,10188.0,10143.6,10151.65,10186.85,10274.6,10228.45,10322.75,10333.7,10412.9,10428.15,10410.65,10495.3,10398.3,10557.3,10578.9,10563.65,10560.35,10592.8,10578.1,10612.4,10586.5,10651.65,10705.75,10783.85,10720.15,10700.45,10653.15,10757.9,10693.35,10779.65,10741.95,10815.15,10812.6,10751.95,10775.6,10671.85,10616.7,10518.45,10521.1,10464.85,10533.05,10648.35,10689.4,10579.0,10670.1,10738.45,10765.95,10630.7,10603.45,10722.6,10736.4,10781.85,10816.15,10887.5,10832.9,10808.65,10830.2,10789.45,10734.65,10808.45,10742.7,10822.9,10742.7,10785.5,10660.8,10612.85,10732.35,10668.6,10715.0,10786.05,10744.15,10838.3,10902.75,10956.4,11006.95,11056.9,11018.95,10939.65,11060.2,10999.5,10963.5,11019.85,11109.0,11148.4,11132.95,11232.75,11296.65,11311.05,11359.8,11328.9,11297.8,11401.5,11423.15,11412.5,11493.25,11474.95,11369.6,11381.7,11397.15,11437.15,11502.1,11576.2,11620.7,11566.6,11605.85,11731.95,11744.95,11694.75,11675.85,11751.8,11598.75,11514.85,11514.15,11558.25,11570.25,11476.85,11340.1,11443.5,11464.95,11381.55,11326.65,11271.3,11164.4,10969.95,11145.55,11079.8,11008.1,10930.9,10982.7,10754.7,10514.1,10310.15,10390.3,10331.85,10169.8,10331.55,10524.2,10550.15,10688.7,10339.7,10405.85,10152.6,10278.15,10135.05,10122.35,10078.1,10239.4,10209.55,10441.7,10462.3,10558.75,10552.0,10614.45,10614.7,10607.8,10451.9,10634.9,10580.6,10644.0,10731.25,10740.1,10670.95,10612.65,10568.3,10621.45,10708.75,10808.7,10892.1,10930.7,10877.1,10820.45,10718.15,10644.8,10508.7,10350.05,10591.0,10810.75,10784.5,10853.2,10850.9,10930.55,10885.2,10944.25,10780.9,10635.45,10817.9,10820.95,10913.2],\"x\":[\"2018-03-01T00:00:00\",\"2018-03-05T00:00:00\",\"2018-03-06T00:00:00\",\"2018-03-07T00:00:00\",\"2018-03-08T00:00:00\",\"2018-03-09T00:00:00\",\"2018-03-12T00:00:00\",\"2018-03-13T00:00:00\",\"2018-03-14T00:00:00\",\"2018-03-15T00:00:00\",\"2018-03-16T00:00:00\",\"2018-03-19T00:00:00\",\"2018-03-20T00:00:00\",\"2018-03-21T00:00:00\",\"2018-03-22T00:00:00\",\"2018-03-23T00:00:00\",\"2018-03-26T00:00:00\",\"2018-03-27T00:00:00\",\"2018-03-28T00:00:00\",\"2018-04-02T00:00:00\",\"2018-04-03T00:00:00\",\"2018-04-04T00:00:00\",\"2018-04-05T00:00:00\",\"2018-04-06T00:00:00\",\"2018-04-09T00:00:00\",\"2018-04-10T00:00:00\",\"2018-04-11T00:00:00\",\"2018-04-12T00:00:00\",\"2018-04-13T00:00:00\",\"2018-04-16T00:00:00\",\"2018-04-17T00:00:00\",\"2018-04-18T00:00:00\",\"2018-04-19T00:00:00\",\"2018-04-20T00:00:00\",\"2018-04-23T00:00:00\",\"2018-04-24T00:00:00\",\"2018-04-25T00:00:00\",\"2018-04-26T00:00:00\",\"2018-04-27T00:00:00\",\"2018-04-30T00:00:00\",\"2018-05-02T00:00:00\",\"2018-05-03T00:00:00\",\"2018-05-04T00:00:00\",\"2018-05-07T00:00:00\",\"2018-05-08T00:00:00\",\"2018-05-09T00:00:00\",\"2018-05-10T00:00:00\",\"2018-05-11T00:00:00\",\"2018-05-14T00:00:00\",\"2018-05-15T00:00:00\",\"2018-05-16T00:00:00\",\"2018-05-17T00:00:00\",\"2018-05-18T00:00:00\",\"2018-05-21T00:00:00\",\"2018-05-22T00:00:00\",\"2018-05-23T00:00:00\",\"2018-05-24T00:00:00\",\"2018-05-25T00:00:00\",\"2018-05-28T00:00:00\",\"2018-05-29T00:00:00\",\"2018-05-30T00:00:00\",\"2018-05-31T00:00:00\",\"2018-06-01T00:00:00\",\"2018-06-04T00:00:00\",\"2018-06-05T00:00:00\",\"2018-06-06T00:00:00\",\"2018-06-07T00:00:00\",\"2018-06-08T00:00:00\",\"2018-06-11T00:00:00\",\"2018-06-12T00:00:00\",\"2018-06-13T00:00:00\",\"2018-06-14T00:00:00\",\"2018-06-15T00:00:00\",\"2018-06-18T00:00:00\",\"2018-06-19T00:00:00\",\"2018-06-20T00:00:00\",\"2018-06-21T00:00:00\",\"2018-06-22T00:00:00\",\"2018-06-25T00:00:00\",\"2018-06-26T00:00:00\",\"2018-06-27T00:00:00\",\"2018-06-28T00:00:00\",\"2018-06-29T00:00:00\",\"2018-07-02T00:00:00\",\"2018-07-03T00:00:00\",\"2018-07-04T00:00:00\",\"2018-07-05T00:00:00\",\"2018-07-06T00:00:00\",\"2018-07-09T00:00:00\",\"2018-07-10T00:00:00\",\"2018-07-11T00:00:00\",\"2018-07-12T00:00:00\",\"2018-07-13T00:00:00\",\"2018-07-16T00:00:00\",\"2018-07-17T00:00:00\",\"2018-07-18T00:00:00\",\"2018-07-19T00:00:00\",\"2018-07-20T00:00:00\",\"2018-07-23T00:00:00\",\"2018-07-24T00:00:00\",\"2018-07-25T00:00:00\",\"2018-07-26T00:00:00\",\"2018-07-27T00:00:00\",\"2018-07-30T00:00:00\",\"2018-07-31T00:00:00\",\"2018-08-01T00:00:00\",\"2018-08-02T00:00:00\",\"2018-08-03T00:00:00\",\"2018-08-06T00:00:00\",\"2018-08-07T00:00:00\",\"2018-08-08T00:00:00\",\"2018-08-09T00:00:00\",\"2018-08-10T00:00:00\",\"2018-08-13T00:00:00\",\"2018-08-14T00:00:00\",\"2018-08-16T00:00:00\",\"2018-08-17T00:00:00\",\"2018-08-20T00:00:00\",\"2018-08-21T00:00:00\",\"2018-08-23T00:00:00\",\"2018-08-24T00:00:00\",\"2018-08-27T00:00:00\",\"2018-08-28T00:00:00\",\"2018-08-29T00:00:00\",\"2018-08-30T00:00:00\",\"2018-08-31T00:00:00\",\"2018-09-03T00:00:00\",\"2018-09-04T00:00:00\",\"2018-09-05T00:00:00\",\"2018-09-06T00:00:00\",\"2018-09-07T00:00:00\",\"2018-09-10T00:00:00\",\"2018-09-11T00:00:00\",\"2018-09-12T00:00:00\",\"2018-09-14T00:00:00\",\"2018-09-17T00:00:00\",\"2018-09-18T00:00:00\",\"2018-09-19T00:00:00\",\"2018-09-21T00:00:00\",\"2018-09-24T00:00:00\",\"2018-09-25T00:00:00\",\"2018-09-26T00:00:00\",\"2018-09-27T00:00:00\",\"2018-09-28T00:00:00\",\"2018-10-01T00:00:00\",\"2018-10-03T00:00:00\",\"2018-10-04T00:00:00\",\"2018-10-05T00:00:00\",\"2018-10-08T00:00:00\",\"2018-10-09T00:00:00\",\"2018-10-10T00:00:00\",\"2018-10-11T00:00:00\",\"2018-10-12T00:00:00\",\"2018-10-15T00:00:00\",\"2018-10-16T00:00:00\",\"2018-10-17T00:00:00\",\"2018-10-19T00:00:00\",\"2018-10-22T00:00:00\",\"2018-10-23T00:00:00\",\"2018-10-24T00:00:00\",\"2018-10-25T00:00:00\",\"2018-10-26T00:00:00\",\"2018-10-29T00:00:00\",\"2018-10-30T00:00:00\",\"2018-10-31T00:00:00\",\"2018-11-01T00:00:00\",\"2018-11-02T00:00:00\",\"2018-11-05T00:00:00\",\"2018-11-06T00:00:00\",\"2018-11-07T00:00:00\",\"2018-11-09T00:00:00\",\"2018-11-12T00:00:00\",\"2018-11-13T00:00:00\",\"2018-11-14T00:00:00\",\"2018-11-15T00:00:00\",\"2018-11-16T00:00:00\",\"2018-11-19T00:00:00\",\"2018-11-20T00:00:00\",\"2018-11-21T00:00:00\",\"2018-11-22T00:00:00\",\"2018-11-26T00:00:00\",\"2018-11-27T00:00:00\",\"2018-11-28T00:00:00\",\"2018-11-29T00:00:00\",\"2018-11-30T00:00:00\",\"2018-12-03T00:00:00\",\"2018-12-04T00:00:00\",\"2018-12-05T00:00:00\",\"2018-12-06T00:00:00\",\"2018-12-07T00:00:00\",\"2018-12-10T00:00:00\",\"2018-12-11T00:00:00\",\"2018-12-12T00:00:00\",\"2018-12-13T00:00:00\",\"2018-12-14T00:00:00\",\"2018-12-17T00:00:00\",\"2018-12-18T00:00:00\",\"2018-12-19T00:00:00\",\"2018-12-20T00:00:00\",\"2018-12-21T00:00:00\",\"2018-12-24T00:00:00\",\"2018-12-26T00:00:00\",\"2018-12-27T00:00:00\",\"2018-12-28T00:00:00\",\"2018-12-31T00:00:00\"],\"type\":\"ohlc\"}],                        {\"template\":{\"data\":{\"histogram2dcontour\":[{\"type\":\"histogram2dcontour\",\"colorbar\":{\"outlinewidth\":0,\"ticks\":\"\"},\"colorscale\":[[0.0,\"#0d0887\"],[0.1111111111111111,\"#46039f\"],[0.2222222222222222,\"#7201a8\"],[0.3333333333333333,\"#9c179e\"],[0.4444444444444444,\"#bd3786\"],[0.5555555555555556,\"#d8576b\"],[0.6666666666666666,\"#ed7953\"],[0.7777777777777778,\"#fb9f3a\"],[0.8888888888888888,\"#fdca26\"],[1.0,\"#f0f921\"]]}],\"choropleth\":[{\"type\":\"choropleth\",\"colorbar\":{\"outlinewidth\":0,\"ticks\":\"\"}}],\"histogram2d\":[{\"type\":\"histogram2d\",\"colorbar\":{\"outlinewidth\":0,\"ticks\":\"\"},\"colorscale\":[[0.0,\"#0d0887\"],[0.1111111111111111,\"#46039f\"],[0.2222222222222222,\"#7201a8\"],[0.3333333333333333,\"#9c179e\"],[0.4444444444444444,\"#bd3786\"],[0.5555555555555556,\"#d8576b\"],[0.6666666666666666,\"#ed7953\"],[0.7777777777777778,\"#fb9f3a\"],[0.8888888888888888,\"#fdca26\"],[1.0,\"#f0f921\"]]}],\"heatmap\":[{\"type\":\"heatmap\",\"colorbar\":{\"outlinewidth\":0,\"ticks\":\"\"},\"colorscale\":[[0.0,\"#0d0887\"],[0.1111111111111111,\"#46039f\"],[0.2222222222222222,\"#7201a8\"],[0.3333333333333333,\"#9c179e\"],[0.4444444444444444,\"#bd3786\"],[0.5555555555555556,\"#d8576b\"],[0.6666666666666666,\"#ed7953\"],[0.7777777777777778,\"#fb9f3a\"],[0.8888888888888888,\"#fdca26\"],[1.0,\"#f0f921\"]]}],\"heatmapgl\":[{\"type\":\"heatmapgl\",\"colorbar\":{\"outlinewidth\":0,\"ticks\":\"\"},\"colorscale\":[[0.0,\"#0d0887\"],[0.1111111111111111,\"#46039f\"],[0.2222222222222222,\"#7201a8\"],[0.3333333333333333,\"#9c179e\"],[0.4444444444444444,\"#bd3786\"],[0.5555555555555556,\"#d8576b\"],[0.6666666666666666,\"#ed7953\"],[0.7777777777777778,\"#fb9f3a\"],[0.8888888888888888,\"#fdca26\"],[1.0,\"#f0f921\"]]}],\"contourcarpet\":[{\"type\":\"contourcarpet\",\"colorbar\":{\"outlinewidth\":0,\"ticks\":\"\"}}],\"contour\":[{\"type\":\"contour\",\"colorbar\":{\"outlinewidth\":0,\"ticks\":\"\"},\"colorscale\":[[0.0,\"#0d0887\"],[0.1111111111111111,\"#46039f\"],[0.2222222222222222,\"#7201a8\"],[0.3333333333333333,\"#9c179e\"],[0.4444444444444444,\"#bd3786\"],[0.5555555555555556,\"#d8576b\"],[0.6666666666666666,\"#ed7953\"],[0.7777777777777778,\"#fb9f3a\"],[0.8888888888888888,\"#fdca26\"],[1.0,\"#f0f921\"]]}],\"surface\":[{\"type\":\"surface\",\"colorbar\":{\"outlinewidth\":0,\"ticks\":\"\"},\"colorscale\":[[0.0,\"#0d0887\"],[0.1111111111111111,\"#46039f\"],[0.2222222222222222,\"#7201a8\"],[0.3333333333333333,\"#9c179e\"],[0.4444444444444444,\"#bd3786\"],[0.5555555555555556,\"#d8576b\"],[0.6666666666666666,\"#ed7953\"],[0.7777777777777778,\"#fb9f3a\"],[0.8888888888888888,\"#fdca26\"],[1.0,\"#f0f921\"]]}],\"mesh3d\":[{\"type\":\"mesh3d\",\"colorbar\":{\"outlinewidth\":0,\"ticks\":\"\"}}],\"scatter\":[{\"fillpattern\":{\"fillmode\":\"overlay\",\"size\":10,\"solidity\":0.2},\"type\":\"scatter\"}],\"parcoords\":[{\"type\":\"parcoords\",\"line\":{\"colorbar\":{\"outlinewidth\":0,\"ticks\":\"\"}}}],\"scatterpolargl\":[{\"type\":\"scatterpolargl\",\"marker\":{\"colorbar\":{\"outlinewidth\":0,\"ticks\":\"\"}}}],\"bar\":[{\"error_x\":{\"color\":\"#2a3f5f\"},\"error_y\":{\"color\":\"#2a3f5f\"},\"marker\":{\"line\":{\"color\":\"#E5ECF6\",\"width\":0.5},\"pattern\":{\"fillmode\":\"overlay\",\"size\":10,\"solidity\":0.2}},\"type\":\"bar\"}],\"scattergeo\":[{\"type\":\"scattergeo\",\"marker\":{\"colorbar\":{\"outlinewidth\":0,\"ticks\":\"\"}}}],\"scatterpolar\":[{\"type\":\"scatterpolar\",\"marker\":{\"colorbar\":{\"outlinewidth\":0,\"ticks\":\"\"}}}],\"histogram\":[{\"marker\":{\"pattern\":{\"fillmode\":\"overlay\",\"size\":10,\"solidity\":0.2}},\"type\":\"histogram\"}],\"scattergl\":[{\"type\":\"scattergl\",\"marker\":{\"colorbar\":{\"outlinewidth\":0,\"ticks\":\"\"}}}],\"scatter3d\":[{\"type\":\"scatter3d\",\"line\":{\"colorbar\":{\"outlinewidth\":0,\"ticks\":\"\"}},\"marker\":{\"colorbar\":{\"outlinewidth\":0,\"ticks\":\"\"}}}],\"scattermapbox\":[{\"type\":\"scattermapbox\",\"marker\":{\"colorbar\":{\"outlinewidth\":0,\"ticks\":\"\"}}}],\"scatterternary\":[{\"type\":\"scatterternary\",\"marker\":{\"colorbar\":{\"outlinewidth\":0,\"ticks\":\"\"}}}],\"scattercarpet\":[{\"type\":\"scattercarpet\",\"marker\":{\"colorbar\":{\"outlinewidth\":0,\"ticks\":\"\"}}}],\"carpet\":[{\"aaxis\":{\"endlinecolor\":\"#2a3f5f\",\"gridcolor\":\"white\",\"linecolor\":\"white\",\"minorgridcolor\":\"white\",\"startlinecolor\":\"#2a3f5f\"},\"baxis\":{\"endlinecolor\":\"#2a3f5f\",\"gridcolor\":\"white\",\"linecolor\":\"white\",\"minorgridcolor\":\"white\",\"startlinecolor\":\"#2a3f5f\"},\"type\":\"carpet\"}],\"table\":[{\"cells\":{\"fill\":{\"color\":\"#EBF0F8\"},\"line\":{\"color\":\"white\"}},\"header\":{\"fill\":{\"color\":\"#C8D4E3\"},\"line\":{\"color\":\"white\"}},\"type\":\"table\"}],\"barpolar\":[{\"marker\":{\"line\":{\"color\":\"#E5ECF6\",\"width\":0.5},\"pattern\":{\"fillmode\":\"overlay\",\"size\":10,\"solidity\":0.2}},\"type\":\"barpolar\"}],\"pie\":[{\"automargin\":true,\"type\":\"pie\"}]},\"layout\":{\"autotypenumbers\":\"strict\",\"colorway\":[\"#636efa\",\"#EF553B\",\"#00cc96\",\"#ab63fa\",\"#FFA15A\",\"#19d3f3\",\"#FF6692\",\"#B6E880\",\"#FF97FF\",\"#FECB52\"],\"font\":{\"color\":\"#2a3f5f\"},\"hovermode\":\"closest\",\"hoverlabel\":{\"align\":\"left\"},\"paper_bgcolor\":\"white\",\"plot_bgcolor\":\"#E5ECF6\",\"polar\":{\"bgcolor\":\"#E5ECF6\",\"angularaxis\":{\"gridcolor\":\"white\",\"linecolor\":\"white\",\"ticks\":\"\"},\"radialaxis\":{\"gridcolor\":\"white\",\"linecolor\":\"white\",\"ticks\":\"\"}},\"ternary\":{\"bgcolor\":\"#E5ECF6\",\"aaxis\":{\"gridcolor\":\"white\",\"linecolor\":\"white\",\"ticks\":\"\"},\"baxis\":{\"gridcolor\":\"white\",\"linecolor\":\"white\",\"ticks\":\"\"},\"caxis\":{\"gridcolor\":\"white\",\"linecolor\":\"white\",\"ticks\":\"\"}},\"coloraxis\":{\"colorbar\":{\"outlinewidth\":0,\"ticks\":\"\"}},\"colorscale\":{\"sequential\":[[0.0,\"#0d0887\"],[0.1111111111111111,\"#46039f\"],[0.2222222222222222,\"#7201a8\"],[0.3333333333333333,\"#9c179e\"],[0.4444444444444444,\"#bd3786\"],[0.5555555555555556,\"#d8576b\"],[0.6666666666666666,\"#ed7953\"],[0.7777777777777778,\"#fb9f3a\"],[0.8888888888888888,\"#fdca26\"],[1.0,\"#f0f921\"]],\"sequentialminus\":[[0.0,\"#0d0887\"],[0.1111111111111111,\"#46039f\"],[0.2222222222222222,\"#7201a8\"],[0.3333333333333333,\"#9c179e\"],[0.4444444444444444,\"#bd3786\"],[0.5555555555555556,\"#d8576b\"],[0.6666666666666666,\"#ed7953\"],[0.7777777777777778,\"#fb9f3a\"],[0.8888888888888888,\"#fdca26\"],[1.0,\"#f0f921\"]],\"diverging\":[[0,\"#8e0152\"],[0.1,\"#c51b7d\"],[0.2,\"#de77ae\"],[0.3,\"#f1b6da\"],[0.4,\"#fde0ef\"],[0.5,\"#f7f7f7\"],[0.6,\"#e6f5d0\"],[0.7,\"#b8e186\"],[0.8,\"#7fbc41\"],[0.9,\"#4d9221\"],[1,\"#276419\"]]},\"xaxis\":{\"gridcolor\":\"white\",\"linecolor\":\"white\",\"ticks\":\"\",\"title\":{\"standoff\":15},\"zerolinecolor\":\"white\",\"automargin\":true,\"zerolinewidth\":2},\"yaxis\":{\"gridcolor\":\"white\",\"linecolor\":\"white\",\"ticks\":\"\",\"title\":{\"standoff\":15},\"zerolinecolor\":\"white\",\"automargin\":true,\"zerolinewidth\":2},\"scene\":{\"xaxis\":{\"backgroundcolor\":\"#E5ECF6\",\"gridcolor\":\"white\",\"linecolor\":\"white\",\"showbackground\":true,\"ticks\":\"\",\"zerolinecolor\":\"white\",\"gridwidth\":2},\"yaxis\":{\"backgroundcolor\":\"#E5ECF6\",\"gridcolor\":\"white\",\"linecolor\":\"white\",\"showbackground\":true,\"ticks\":\"\",\"zerolinecolor\":\"white\",\"gridwidth\":2},\"zaxis\":{\"backgroundcolor\":\"#E5ECF6\",\"gridcolor\":\"white\",\"linecolor\":\"white\",\"showbackground\":true,\"ticks\":\"\",\"zerolinecolor\":\"white\",\"gridwidth\":2}},\"shapedefaults\":{\"line\":{\"color\":\"#2a3f5f\"}},\"annotationdefaults\":{\"arrowcolor\":\"#2a3f5f\",\"arrowhead\":0,\"arrowwidth\":1},\"geo\":{\"bgcolor\":\"white\",\"landcolor\":\"#E5ECF6\",\"subunitcolor\":\"white\",\"showland\":true,\"showlakes\":true,\"lakecolor\":\"white\"},\"title\":{\"x\":0.05},\"mapbox\":{\"style\":\"light\"}}},\"title\":{\"text\":\"Nifty 50 From March 2018 to Dec 2020\",\"y\":0.9,\"x\":0.5,\"xanchor\":\"center\",\"yanchor\":\"top\"},\"xaxis\":{\"rangeslider\":{\"visible\":true},\"title\":{\"text\":\"Time\"}},\"yaxis\":{\"title\":{\"text\":\"Price\"}}},                        {\"responsive\": true}                    ).then(function(){\n",
       "                            \n",
       "var gd = document.getElementById('cc0b0039-00fa-4c0c-a994-b1f3835dd720');\n",
       "var x = new MutationObserver(function (mutations, observer) {{\n",
       "        var display = window.getComputedStyle(gd).display;\n",
       "        if (!display || display === 'none') {{\n",
       "            console.log([gd, 'removed!']);\n",
       "            Plotly.purge(gd);\n",
       "            observer.disconnect();\n",
       "        }}\n",
       "}});\n",
       "\n",
       "// Listen for the removal of the full notebook cells\n",
       "var notebookContainer = gd.closest('#notebook-container');\n",
       "if (notebookContainer) {{\n",
       "    x.observe(notebookContainer, {childList: true});\n",
       "}}\n",
       "\n",
       "// Listen for the clearing of the current output cell\n",
       "var outputEl = gd.closest('.output');\n",
       "if (outputEl) {{\n",
       "    x.observe(outputEl, {childList: true});\n",
       "}}\n",
       "\n",
       "                        })                };                });            </script>        </div>"
      ]
     },
     "metadata": {},
     "output_type": "display_data"
    }
   ],
   "source": [
    "fig.update_layout(title_text='Nifty 50 From March 2018 to Dec 2020',\n",
    "                  title={\n",
    "                    'y':0.9,\n",
    "                    'x':0.5,\n",
    "                    'xanchor': 'center',\n",
    "                    'yanchor': 'top'},\n",
    "                  xaxis_rangeslider_visible=True, \n",
    "                  xaxis_title=\"Time\", \n",
    "                  yaxis_title=\"Price\")\n",
    "\n",
    "fig.show()"
   ]
  },
  {
   "cell_type": "code",
   "execution_count": 393,
   "id": "b723e06f",
   "metadata": {},
   "outputs": [],
   "source": [
    "C_data = data_nifty_50['3-2018':'12-2018']"
   ]
  },
  {
   "cell_type": "code",
   "execution_count": 394,
   "id": "a361db98",
   "metadata": {},
   "outputs": [],
   "source": [
    "fig = go.Figure(data=go.Candlestick(x=C_data.index,\n",
    "                            open=C_data['Open'],\n",
    "                            high=C_data['High'],\n",
    "                            low=C_data['Low'],\n",
    "                            close=C_data['Close']))\n"
   ]
  },
  {
   "cell_type": "code",
   "execution_count": 395,
   "id": "beffe7e4",
   "metadata": {},
   "outputs": [
    {
     "data": {
      "application/vnd.plotly.v1+json": {
       "config": {
        "plotlyServerURL": "https://plot.ly"
       },
       "data": [
        {
         "close": [
          10458.35,
          10358.85,
          10249.25,
          10154.2,
          10242.65,
          10226.85,
          10421.4,
          10426.85,
          10410.9,
          10360.15,
          10195.15,
          10094.25,
          10124.35,
          10155.25,
          10114.75,
          9998.05,
          10130.65,
          10184.15,
          10113.7,
          10211.8,
          10245,
          10128.4,
          10325.15,
          10331.6,
          10379.35,
          10402.25,
          10417.15,
          10458.65,
          10480.6,
          10528.35,
          10548.7,
          10526.2,
          10565.3,
          10564.05,
          10584.7,
          10614.35,
          10570.55,
          10617.8,
          10692.3,
          10739.35,
          10718.05,
          10679.65,
          10618.25,
          10715.5,
          10717.8,
          10741.7,
          10716.55,
          10806.5,
          10806.6,
          10801.85,
          10741.1,
          10682.7,
          10596.4,
          10516.7,
          10536.7,
          10430.35,
          10513.85,
          10605.15,
          10688.65,
          10633.3,
          10614.35,
          10736.15,
          10696.2,
          10628.5,
          10593.15,
          10684.65,
          10768.35,
          10767.65,
          10786.95,
          10842.85,
          10856.7,
          10808.05,
          10817.7,
          10799.85,
          10710.45,
          10772.05,
          10741.1,
          10821.85,
          10762.45,
          10769.15,
          10671.4,
          10589.1,
          10714.3,
          10657.3,
          10699.9,
          10769.9,
          10749.75,
          10772.65,
          10852.9,
          10947.25,
          10948.3,
          11023.2,
          11018.9,
          10936.85,
          11008.05,
          10980.45,
          10957.1,
          11010.2,
          11084.75,
          11134.3,
          11132,
          11167.3,
          11278.35,
          11319.55,
          11356.5,
          11346.2,
          11244.7,
          11360.8,
          11387.1,
          11389.45,
          11450,
          11470.7,
          11429.5,
          11355.75,
          11435.1,
          11385.05,
          11470.75,
          11551.75,
          11570.9,
          11582.75,
          11557.1,
          11691.95,
          11738.5,
          11691.9,
          11676.8,
          11680.5,
          11582.35,
          11520.3,
          11476.95,
          11536.9,
          11589.1,
          11438.1,
          11287.5,
          11369.9,
          11515.2,
          11377.75,
          11278.9,
          11234.35,
          11143.1,
          10967.4,
          11067.45,
          11053.8,
          10977.55,
          10930.45,
          11008.3,
          10858.25,
          10599.25,
          10316.45,
          10348.05,
          10301.05,
          10460.1,
          10234.65,
          10472.5,
          10512.5,
          10584.75,
          10453.05,
          10303.55,
          10245.25,
          10146.8,
          10224.75,
          10124.9,
          10030,
          10250.85,
          10198.4,
          10386.6,
          10380.45,
          10553,
          10524,
          10530,
          10598.4,
          10585.2,
          10482.2,
          10582.5,
          10576.3,
          10616.7,
          10682.2,
          10763.4,
          10656.2,
          10600.05,
          10526.75,
          10628.6,
          10685.6,
          10728.85,
          10858.7,
          10876.75,
          10883.75,
          10869.5,
          10782.9,
          10601.15,
          10693.7,
          10488.45,
          10549.15,
          10737.6,
          10791.55,
          10805.45,
          10888.35,
          10908.7,
          10967.3,
          10951.7,
          10754,
          10663.5,
          10729.85,
          10779.8,
          10859.9,
          10862.55
         ],
         "high": [
          10525.5,
          10428.7,
          10441.35,
          10243.35,
          10270.35,
          10296.7,
          10433.65,
          10478.6,
          10420.35,
          10420,
          10346.3,
          10224.55,
          10155.65,
          10227.3,
          10207.85,
          10027.7,
          10143.5,
          10207.9,
          10158.35,
          10220.1,
          10255.35,
          10279.85,
          10331.8,
          10350.45,
          10397.7,
          10424.85,
          10428.15,
          10469.9,
          10519.9,
          10540.15,
          10560.45,
          10594.2,
          10572.2,
          10582.35,
          10638.35,
          10636.8,
          10612.6,
          10628.4,
          10719.8,
          10759,
          10784.65,
          10720.6,
          10700.45,
          10725.65,
          10758.55,
          10766.25,
          10785.55,
          10812.05,
          10834.85,
          10929.2,
          10790.45,
          10777.25,
          10674.95,
          10621.7,
          10558.6,
          10533.55,
          10535.15,
          10628.05,
          10709.8,
          10717.25,
          10648.7,
          10763.8,
          10764.75,
          10770.3,
          10633.15,
          10698.35,
          10818,
          10779.45,
          10850.55,
          10856.55,
          10893.25,
          10833.7,
          10834,
          10830.2,
          10789.45,
          10781.8,
          10809.6,
          10837,
          10831.05,
          10805.25,
          10785.5,
          10674.2,
          10723.05,
          10736.15,
          10713.3,
          10777.15,
          10786.05,
          10816.35,
          10860.35,
          10956.9,
          10976.65,
          11078.3,
          11071.35,
          11019.5,
          11018.5,
          11076.2,
          11006.5,
          11030.25,
          11093.4,
          11143.4,
          11157.15,
          11185.85,
          11283.4,
          11328.1,
          11366,
          11390.55,
          11328.9,
          11368,
          11427.65,
          11428.95,
          11459.95,
          11495.2,
          11478.75,
          11406.3,
          11452.45,
          11449.85,
          11486.45,
          11565.3,
          11581.75,
          11620.7,
          11604.6,
          11700.95,
          11760.2,
          11753.2,
          11698.8,
          11727.65,
          11751.8,
          11602.55,
          11542.65,
          11562.25,
          11603,
          11573,
          11479.4,
          11380.75,
          11523.25,
          11464.95,
          11411.45,
          11332.05,
          11346.8,
          11170.15,
          11080.6,
          11145.55,
          11089.45,
          11034.1,
          11035.65,
          10989.05,
          10754.7,
          10540.65,
          10398.35,
          10397.6,
          10482.35,
          10335.95,
          10492.45,
          10526.3,
          10604.9,
          10710.15,
          10380.1,
          10408.55,
          10222.1,
          10290.65,
          10166.6,
          10128.85,
          10275.3,
          10285.1,
          10396,
          10441.9,
          10606.95,
          10558.8,
          10600.25,
          10616.45,
          10619.55,
          10645.5,
          10596.25,
          10651.6,
          10646.5,
          10695.15,
          10774.7,
          10740.85,
          10671.3,
          10646.25,
          10637.8,
          10695.15,
          10757.8,
          10883.05,
          10922.45,
          10941.2,
          10890.95,
          10821.05,
          10722.65,
          10704.55,
          10558.85,
          10567.15,
          10752.2,
          10838.6,
          10815.75,
          10900.35,
          10915.4,
          10985.15,
          10962.55,
          10963.65,
          10782.3,
          10747.5,
          10834.2,
          10893.6,
          10923.55
         ],
         "low": [
          10447.15,
          10323.9,
          10215.9,
          10141.55,
          10146.4,
          10211.9,
          10295.45,
          10377.85,
          10336.3,
          10346.2,
          10180.25,
          10075.3,
          10049.1,
          10132.95,
          10105.4,
          9951.9,
          9958.55,
          10139.65,
          10096.9,
          10127.75,
          10171.05,
          10111.3,
          10227.45,
          10290.85,
          10328.5,
          10381.5,
          10355.6,
          10395.25,
          10451.45,
          10396.35,
          10495.65,
          10509.7,
          10546.2,
          10527.45,
          10514.95,
          10569,
          10536.45,
          10559.65,
          10647.55,
          10704.6,
          10689.8,
          10647.45,
          10601.6,
          10635.65,
          10689.4,
          10689.85,
          10705,
          10724.45,
          10774.75,
          10781.4,
          10699.7,
          10664.5,
          10589.1,
          10505.8,
          10490.55,
          10417.8,
          10419.8,
          10524,
          10640.55,
          10616.1,
          10558.45,
          10620.4,
          10681.5,
          10618.35,
          10550.9,
          10587.5,
          10722.6,
          10709.05,
          10777.05,
          10789.4,
          10842.65,
          10773.55,
          10755.4,
          10787.35,
          10701.2,
          10724.05,
          10725.9,
          10710.45,
          10753.05,
          10732.55,
          10652.4,
          10557.7,
          10612.35,
          10604.65,
          10630.25,
          10677.75,
          10726.25,
          10735.05,
          10807.15,
          10876.65,
          10923,
          10999.65,
          10999.75,
          10926.25,
          10925.6,
          10956.3,
          10935.45,
          10946.2,
          11010.95,
          11092.5,
          11113.25,
          11125.7,
          11210.25,
          11261.45,
          11267.75,
          11313.55,
          11234.95,
          11294.55,
          11370.6,
          11359.7,
          11379.3,
          11454.1,
          11419.65,
          11340.3,
          11370.8,
          11366.25,
          11431.8,
          11499.65,
          11539.6,
          11546.7,
          11532,
          11595.6,
          11710.5,
          11678.85,
          11639.7,
          11640.1,
          11567.4,
          11496.85,
          11393.85,
          11436.05,
          11484.4,
          11427.3,
          11274,
          11250.2,
          11430.55,
          11366.9,
          11268.95,
          11210.9,
          10866.45,
          10943.6,
          10882.85,
          10993.05,
          10953.35,
          10850.3,
          10821.55,
          10843.75,
          10547.25,
          10261.9,
          10198.4,
          10279.35,
          10318.25,
          10138.6,
          10322.15,
          10410.15,
          10525.3,
          10436.45,
          10249.6,
          10224,
          10102.35,
          10126.7,
          10079.3,
          10004.55,
          10020.35,
          10175.35,
          10105.1,
          10341.9,
          10457.7,
          10477,
          10491.45,
          10582.3,
          10544.85,
          10464.05,
          10440.55,
          10532.7,
          10557.5,
          10631.15,
          10688.8,
          10640.85,
          10562.35,
          10512,
          10489.75,
          10596.35,
          10699.85,
          10782.35,
          10835.1,
          10845.35,
          10833.35,
          10747.95,
          10588.25,
          10599.35,
          10474.95,
          10333.85,
          10560.8,
          10749.5,
          10752.1,
          10844.85,
          10819.1,
          10928,
          10880.05,
          10738.65,
          10649.25,
          10534.55,
          10764.45,
          10817.15,
          10853.2
         ],
         "open": [
          10479.95,
          10428.3,
          10420.5,
          10232.95,
          10216.25,
          10271.3,
          10301.6,
          10389.5,
          10393.05,
          10405.45,
          10345.15,
          10215.35,
          10051.55,
          10181.95,
          10167.5,
          9968.8,
          9989.15,
          10188,
          10143.6,
          10151.65,
          10186.85,
          10274.6,
          10228.45,
          10322.75,
          10333.7,
          10412.9,
          10428.15,
          10410.65,
          10495.3,
          10398.3,
          10557.3,
          10578.9,
          10563.65,
          10560.35,
          10592.8,
          10578.1,
          10612.4,
          10586.5,
          10651.65,
          10705.75,
          10783.85,
          10720.15,
          10700.45,
          10653.15,
          10757.9,
          10693.35,
          10779.65,
          10741.95,
          10815.15,
          10812.6,
          10751.95,
          10775.6,
          10671.85,
          10616.7,
          10518.45,
          10521.1,
          10464.85,
          10533.05,
          10648.35,
          10689.4,
          10579,
          10670.1,
          10738.45,
          10765.95,
          10630.7,
          10603.45,
          10722.6,
          10736.4,
          10781.85,
          10816.15,
          10887.5,
          10832.9,
          10808.65,
          10830.2,
          10789.45,
          10734.65,
          10808.45,
          10742.7,
          10822.9,
          10742.7,
          10785.5,
          10660.8,
          10612.85,
          10732.35,
          10668.6,
          10715,
          10786.05,
          10744.15,
          10838.3,
          10902.75,
          10956.4,
          11006.95,
          11056.9,
          11018.95,
          10939.65,
          11060.2,
          10999.5,
          10963.5,
          11019.85,
          11109,
          11148.4,
          11132.95,
          11232.75,
          11296.65,
          11311.05,
          11359.8,
          11328.9,
          11297.8,
          11401.5,
          11423.15,
          11412.5,
          11493.25,
          11474.95,
          11369.6,
          11381.7,
          11397.15,
          11437.15,
          11502.1,
          11576.2,
          11620.7,
          11566.6,
          11605.85,
          11731.95,
          11744.95,
          11694.75,
          11675.85,
          11751.8,
          11598.75,
          11514.85,
          11514.15,
          11558.25,
          11570.25,
          11476.85,
          11340.1,
          11443.5,
          11464.95,
          11381.55,
          11326.65,
          11271.3,
          11164.4,
          10969.95,
          11145.55,
          11079.8,
          11008.1,
          10930.9,
          10982.7,
          10754.7,
          10514.1,
          10310.15,
          10390.3,
          10331.85,
          10169.8,
          10331.55,
          10524.2,
          10550.15,
          10688.7,
          10339.7,
          10405.85,
          10152.6,
          10278.15,
          10135.05,
          10122.35,
          10078.1,
          10239.4,
          10209.55,
          10441.7,
          10462.3,
          10558.75,
          10552,
          10614.45,
          10614.7,
          10607.8,
          10451.9,
          10634.9,
          10580.6,
          10644,
          10731.25,
          10740.1,
          10670.95,
          10612.65,
          10568.3,
          10621.45,
          10708.75,
          10808.7,
          10892.1,
          10930.7,
          10877.1,
          10820.45,
          10718.15,
          10644.8,
          10508.7,
          10350.05,
          10591,
          10810.75,
          10784.5,
          10853.2,
          10850.9,
          10930.55,
          10885.2,
          10944.25,
          10780.9,
          10635.45,
          10817.9,
          10820.95,
          10913.2
         ],
         "type": "candlestick",
         "x": [
          "2018-03-01T00:00:00",
          "2018-03-05T00:00:00",
          "2018-03-06T00:00:00",
          "2018-03-07T00:00:00",
          "2018-03-08T00:00:00",
          "2018-03-09T00:00:00",
          "2018-03-12T00:00:00",
          "2018-03-13T00:00:00",
          "2018-03-14T00:00:00",
          "2018-03-15T00:00:00",
          "2018-03-16T00:00:00",
          "2018-03-19T00:00:00",
          "2018-03-20T00:00:00",
          "2018-03-21T00:00:00",
          "2018-03-22T00:00:00",
          "2018-03-23T00:00:00",
          "2018-03-26T00:00:00",
          "2018-03-27T00:00:00",
          "2018-03-28T00:00:00",
          "2018-04-02T00:00:00",
          "2018-04-03T00:00:00",
          "2018-04-04T00:00:00",
          "2018-04-05T00:00:00",
          "2018-04-06T00:00:00",
          "2018-04-09T00:00:00",
          "2018-04-10T00:00:00",
          "2018-04-11T00:00:00",
          "2018-04-12T00:00:00",
          "2018-04-13T00:00:00",
          "2018-04-16T00:00:00",
          "2018-04-17T00:00:00",
          "2018-04-18T00:00:00",
          "2018-04-19T00:00:00",
          "2018-04-20T00:00:00",
          "2018-04-23T00:00:00",
          "2018-04-24T00:00:00",
          "2018-04-25T00:00:00",
          "2018-04-26T00:00:00",
          "2018-04-27T00:00:00",
          "2018-04-30T00:00:00",
          "2018-05-02T00:00:00",
          "2018-05-03T00:00:00",
          "2018-05-04T00:00:00",
          "2018-05-07T00:00:00",
          "2018-05-08T00:00:00",
          "2018-05-09T00:00:00",
          "2018-05-10T00:00:00",
          "2018-05-11T00:00:00",
          "2018-05-14T00:00:00",
          "2018-05-15T00:00:00",
          "2018-05-16T00:00:00",
          "2018-05-17T00:00:00",
          "2018-05-18T00:00:00",
          "2018-05-21T00:00:00",
          "2018-05-22T00:00:00",
          "2018-05-23T00:00:00",
          "2018-05-24T00:00:00",
          "2018-05-25T00:00:00",
          "2018-05-28T00:00:00",
          "2018-05-29T00:00:00",
          "2018-05-30T00:00:00",
          "2018-05-31T00:00:00",
          "2018-06-01T00:00:00",
          "2018-06-04T00:00:00",
          "2018-06-05T00:00:00",
          "2018-06-06T00:00:00",
          "2018-06-07T00:00:00",
          "2018-06-08T00:00:00",
          "2018-06-11T00:00:00",
          "2018-06-12T00:00:00",
          "2018-06-13T00:00:00",
          "2018-06-14T00:00:00",
          "2018-06-15T00:00:00",
          "2018-06-18T00:00:00",
          "2018-06-19T00:00:00",
          "2018-06-20T00:00:00",
          "2018-06-21T00:00:00",
          "2018-06-22T00:00:00",
          "2018-06-25T00:00:00",
          "2018-06-26T00:00:00",
          "2018-06-27T00:00:00",
          "2018-06-28T00:00:00",
          "2018-06-29T00:00:00",
          "2018-07-02T00:00:00",
          "2018-07-03T00:00:00",
          "2018-07-04T00:00:00",
          "2018-07-05T00:00:00",
          "2018-07-06T00:00:00",
          "2018-07-09T00:00:00",
          "2018-07-10T00:00:00",
          "2018-07-11T00:00:00",
          "2018-07-12T00:00:00",
          "2018-07-13T00:00:00",
          "2018-07-16T00:00:00",
          "2018-07-17T00:00:00",
          "2018-07-18T00:00:00",
          "2018-07-19T00:00:00",
          "2018-07-20T00:00:00",
          "2018-07-23T00:00:00",
          "2018-07-24T00:00:00",
          "2018-07-25T00:00:00",
          "2018-07-26T00:00:00",
          "2018-07-27T00:00:00",
          "2018-07-30T00:00:00",
          "2018-07-31T00:00:00",
          "2018-08-01T00:00:00",
          "2018-08-02T00:00:00",
          "2018-08-03T00:00:00",
          "2018-08-06T00:00:00",
          "2018-08-07T00:00:00",
          "2018-08-08T00:00:00",
          "2018-08-09T00:00:00",
          "2018-08-10T00:00:00",
          "2018-08-13T00:00:00",
          "2018-08-14T00:00:00",
          "2018-08-16T00:00:00",
          "2018-08-17T00:00:00",
          "2018-08-20T00:00:00",
          "2018-08-21T00:00:00",
          "2018-08-23T00:00:00",
          "2018-08-24T00:00:00",
          "2018-08-27T00:00:00",
          "2018-08-28T00:00:00",
          "2018-08-29T00:00:00",
          "2018-08-30T00:00:00",
          "2018-08-31T00:00:00",
          "2018-09-03T00:00:00",
          "2018-09-04T00:00:00",
          "2018-09-05T00:00:00",
          "2018-09-06T00:00:00",
          "2018-09-07T00:00:00",
          "2018-09-10T00:00:00",
          "2018-09-11T00:00:00",
          "2018-09-12T00:00:00",
          "2018-09-14T00:00:00",
          "2018-09-17T00:00:00",
          "2018-09-18T00:00:00",
          "2018-09-19T00:00:00",
          "2018-09-21T00:00:00",
          "2018-09-24T00:00:00",
          "2018-09-25T00:00:00",
          "2018-09-26T00:00:00",
          "2018-09-27T00:00:00",
          "2018-09-28T00:00:00",
          "2018-10-01T00:00:00",
          "2018-10-03T00:00:00",
          "2018-10-04T00:00:00",
          "2018-10-05T00:00:00",
          "2018-10-08T00:00:00",
          "2018-10-09T00:00:00",
          "2018-10-10T00:00:00",
          "2018-10-11T00:00:00",
          "2018-10-12T00:00:00",
          "2018-10-15T00:00:00",
          "2018-10-16T00:00:00",
          "2018-10-17T00:00:00",
          "2018-10-19T00:00:00",
          "2018-10-22T00:00:00",
          "2018-10-23T00:00:00",
          "2018-10-24T00:00:00",
          "2018-10-25T00:00:00",
          "2018-10-26T00:00:00",
          "2018-10-29T00:00:00",
          "2018-10-30T00:00:00",
          "2018-10-31T00:00:00",
          "2018-11-01T00:00:00",
          "2018-11-02T00:00:00",
          "2018-11-05T00:00:00",
          "2018-11-06T00:00:00",
          "2018-11-07T00:00:00",
          "2018-11-09T00:00:00",
          "2018-11-12T00:00:00",
          "2018-11-13T00:00:00",
          "2018-11-14T00:00:00",
          "2018-11-15T00:00:00",
          "2018-11-16T00:00:00",
          "2018-11-19T00:00:00",
          "2018-11-20T00:00:00",
          "2018-11-21T00:00:00",
          "2018-11-22T00:00:00",
          "2018-11-26T00:00:00",
          "2018-11-27T00:00:00",
          "2018-11-28T00:00:00",
          "2018-11-29T00:00:00",
          "2018-11-30T00:00:00",
          "2018-12-03T00:00:00",
          "2018-12-04T00:00:00",
          "2018-12-05T00:00:00",
          "2018-12-06T00:00:00",
          "2018-12-07T00:00:00",
          "2018-12-10T00:00:00",
          "2018-12-11T00:00:00",
          "2018-12-12T00:00:00",
          "2018-12-13T00:00:00",
          "2018-12-14T00:00:00",
          "2018-12-17T00:00:00",
          "2018-12-18T00:00:00",
          "2018-12-19T00:00:00",
          "2018-12-20T00:00:00",
          "2018-12-21T00:00:00",
          "2018-12-24T00:00:00",
          "2018-12-26T00:00:00",
          "2018-12-27T00:00:00",
          "2018-12-28T00:00:00",
          "2018-12-31T00:00:00"
         ]
        }
       ],
       "layout": {
        "template": {
         "data": {
          "bar": [
           {
            "error_x": {
             "color": "#2a3f5f"
            },
            "error_y": {
             "color": "#2a3f5f"
            },
            "marker": {
             "line": {
              "color": "#E5ECF6",
              "width": 0.5
             },
             "pattern": {
              "fillmode": "overlay",
              "size": 10,
              "solidity": 0.2
             }
            },
            "type": "bar"
           }
          ],
          "barpolar": [
           {
            "marker": {
             "line": {
              "color": "#E5ECF6",
              "width": 0.5
             },
             "pattern": {
              "fillmode": "overlay",
              "size": 10,
              "solidity": 0.2
             }
            },
            "type": "barpolar"
           }
          ],
          "carpet": [
           {
            "aaxis": {
             "endlinecolor": "#2a3f5f",
             "gridcolor": "white",
             "linecolor": "white",
             "minorgridcolor": "white",
             "startlinecolor": "#2a3f5f"
            },
            "baxis": {
             "endlinecolor": "#2a3f5f",
             "gridcolor": "white",
             "linecolor": "white",
             "minorgridcolor": "white",
             "startlinecolor": "#2a3f5f"
            },
            "type": "carpet"
           }
          ],
          "choropleth": [
           {
            "colorbar": {
             "outlinewidth": 0,
             "ticks": ""
            },
            "type": "choropleth"
           }
          ],
          "contour": [
           {
            "colorbar": {
             "outlinewidth": 0,
             "ticks": ""
            },
            "colorscale": [
             [
              0,
              "#0d0887"
             ],
             [
              0.1111111111111111,
              "#46039f"
             ],
             [
              0.2222222222222222,
              "#7201a8"
             ],
             [
              0.3333333333333333,
              "#9c179e"
             ],
             [
              0.4444444444444444,
              "#bd3786"
             ],
             [
              0.5555555555555556,
              "#d8576b"
             ],
             [
              0.6666666666666666,
              "#ed7953"
             ],
             [
              0.7777777777777778,
              "#fb9f3a"
             ],
             [
              0.8888888888888888,
              "#fdca26"
             ],
             [
              1,
              "#f0f921"
             ]
            ],
            "type": "contour"
           }
          ],
          "contourcarpet": [
           {
            "colorbar": {
             "outlinewidth": 0,
             "ticks": ""
            },
            "type": "contourcarpet"
           }
          ],
          "heatmap": [
           {
            "colorbar": {
             "outlinewidth": 0,
             "ticks": ""
            },
            "colorscale": [
             [
              0,
              "#0d0887"
             ],
             [
              0.1111111111111111,
              "#46039f"
             ],
             [
              0.2222222222222222,
              "#7201a8"
             ],
             [
              0.3333333333333333,
              "#9c179e"
             ],
             [
              0.4444444444444444,
              "#bd3786"
             ],
             [
              0.5555555555555556,
              "#d8576b"
             ],
             [
              0.6666666666666666,
              "#ed7953"
             ],
             [
              0.7777777777777778,
              "#fb9f3a"
             ],
             [
              0.8888888888888888,
              "#fdca26"
             ],
             [
              1,
              "#f0f921"
             ]
            ],
            "type": "heatmap"
           }
          ],
          "heatmapgl": [
           {
            "colorbar": {
             "outlinewidth": 0,
             "ticks": ""
            },
            "colorscale": [
             [
              0,
              "#0d0887"
             ],
             [
              0.1111111111111111,
              "#46039f"
             ],
             [
              0.2222222222222222,
              "#7201a8"
             ],
             [
              0.3333333333333333,
              "#9c179e"
             ],
             [
              0.4444444444444444,
              "#bd3786"
             ],
             [
              0.5555555555555556,
              "#d8576b"
             ],
             [
              0.6666666666666666,
              "#ed7953"
             ],
             [
              0.7777777777777778,
              "#fb9f3a"
             ],
             [
              0.8888888888888888,
              "#fdca26"
             ],
             [
              1,
              "#f0f921"
             ]
            ],
            "type": "heatmapgl"
           }
          ],
          "histogram": [
           {
            "marker": {
             "pattern": {
              "fillmode": "overlay",
              "size": 10,
              "solidity": 0.2
             }
            },
            "type": "histogram"
           }
          ],
          "histogram2d": [
           {
            "colorbar": {
             "outlinewidth": 0,
             "ticks": ""
            },
            "colorscale": [
             [
              0,
              "#0d0887"
             ],
             [
              0.1111111111111111,
              "#46039f"
             ],
             [
              0.2222222222222222,
              "#7201a8"
             ],
             [
              0.3333333333333333,
              "#9c179e"
             ],
             [
              0.4444444444444444,
              "#bd3786"
             ],
             [
              0.5555555555555556,
              "#d8576b"
             ],
             [
              0.6666666666666666,
              "#ed7953"
             ],
             [
              0.7777777777777778,
              "#fb9f3a"
             ],
             [
              0.8888888888888888,
              "#fdca26"
             ],
             [
              1,
              "#f0f921"
             ]
            ],
            "type": "histogram2d"
           }
          ],
          "histogram2dcontour": [
           {
            "colorbar": {
             "outlinewidth": 0,
             "ticks": ""
            },
            "colorscale": [
             [
              0,
              "#0d0887"
             ],
             [
              0.1111111111111111,
              "#46039f"
             ],
             [
              0.2222222222222222,
              "#7201a8"
             ],
             [
              0.3333333333333333,
              "#9c179e"
             ],
             [
              0.4444444444444444,
              "#bd3786"
             ],
             [
              0.5555555555555556,
              "#d8576b"
             ],
             [
              0.6666666666666666,
              "#ed7953"
             ],
             [
              0.7777777777777778,
              "#fb9f3a"
             ],
             [
              0.8888888888888888,
              "#fdca26"
             ],
             [
              1,
              "#f0f921"
             ]
            ],
            "type": "histogram2dcontour"
           }
          ],
          "mesh3d": [
           {
            "colorbar": {
             "outlinewidth": 0,
             "ticks": ""
            },
            "type": "mesh3d"
           }
          ],
          "parcoords": [
           {
            "line": {
             "colorbar": {
              "outlinewidth": 0,
              "ticks": ""
             }
            },
            "type": "parcoords"
           }
          ],
          "pie": [
           {
            "automargin": true,
            "type": "pie"
           }
          ],
          "scatter": [
           {
            "fillpattern": {
             "fillmode": "overlay",
             "size": 10,
             "solidity": 0.2
            },
            "type": "scatter"
           }
          ],
          "scatter3d": [
           {
            "line": {
             "colorbar": {
              "outlinewidth": 0,
              "ticks": ""
             }
            },
            "marker": {
             "colorbar": {
              "outlinewidth": 0,
              "ticks": ""
             }
            },
            "type": "scatter3d"
           }
          ],
          "scattercarpet": [
           {
            "marker": {
             "colorbar": {
              "outlinewidth": 0,
              "ticks": ""
             }
            },
            "type": "scattercarpet"
           }
          ],
          "scattergeo": [
           {
            "marker": {
             "colorbar": {
              "outlinewidth": 0,
              "ticks": ""
             }
            },
            "type": "scattergeo"
           }
          ],
          "scattergl": [
           {
            "marker": {
             "colorbar": {
              "outlinewidth": 0,
              "ticks": ""
             }
            },
            "type": "scattergl"
           }
          ],
          "scattermapbox": [
           {
            "marker": {
             "colorbar": {
              "outlinewidth": 0,
              "ticks": ""
             }
            },
            "type": "scattermapbox"
           }
          ],
          "scatterpolar": [
           {
            "marker": {
             "colorbar": {
              "outlinewidth": 0,
              "ticks": ""
             }
            },
            "type": "scatterpolar"
           }
          ],
          "scatterpolargl": [
           {
            "marker": {
             "colorbar": {
              "outlinewidth": 0,
              "ticks": ""
             }
            },
            "type": "scatterpolargl"
           }
          ],
          "scatterternary": [
           {
            "marker": {
             "colorbar": {
              "outlinewidth": 0,
              "ticks": ""
             }
            },
            "type": "scatterternary"
           }
          ],
          "surface": [
           {
            "colorbar": {
             "outlinewidth": 0,
             "ticks": ""
            },
            "colorscale": [
             [
              0,
              "#0d0887"
             ],
             [
              0.1111111111111111,
              "#46039f"
             ],
             [
              0.2222222222222222,
              "#7201a8"
             ],
             [
              0.3333333333333333,
              "#9c179e"
             ],
             [
              0.4444444444444444,
              "#bd3786"
             ],
             [
              0.5555555555555556,
              "#d8576b"
             ],
             [
              0.6666666666666666,
              "#ed7953"
             ],
             [
              0.7777777777777778,
              "#fb9f3a"
             ],
             [
              0.8888888888888888,
              "#fdca26"
             ],
             [
              1,
              "#f0f921"
             ]
            ],
            "type": "surface"
           }
          ],
          "table": [
           {
            "cells": {
             "fill": {
              "color": "#EBF0F8"
             },
             "line": {
              "color": "white"
             }
            },
            "header": {
             "fill": {
              "color": "#C8D4E3"
             },
             "line": {
              "color": "white"
             }
            },
            "type": "table"
           }
          ]
         },
         "layout": {
          "annotationdefaults": {
           "arrowcolor": "#2a3f5f",
           "arrowhead": 0,
           "arrowwidth": 1
          },
          "autotypenumbers": "strict",
          "coloraxis": {
           "colorbar": {
            "outlinewidth": 0,
            "ticks": ""
           }
          },
          "colorscale": {
           "diverging": [
            [
             0,
             "#8e0152"
            ],
            [
             0.1,
             "#c51b7d"
            ],
            [
             0.2,
             "#de77ae"
            ],
            [
             0.3,
             "#f1b6da"
            ],
            [
             0.4,
             "#fde0ef"
            ],
            [
             0.5,
             "#f7f7f7"
            ],
            [
             0.6,
             "#e6f5d0"
            ],
            [
             0.7,
             "#b8e186"
            ],
            [
             0.8,
             "#7fbc41"
            ],
            [
             0.9,
             "#4d9221"
            ],
            [
             1,
             "#276419"
            ]
           ],
           "sequential": [
            [
             0,
             "#0d0887"
            ],
            [
             0.1111111111111111,
             "#46039f"
            ],
            [
             0.2222222222222222,
             "#7201a8"
            ],
            [
             0.3333333333333333,
             "#9c179e"
            ],
            [
             0.4444444444444444,
             "#bd3786"
            ],
            [
             0.5555555555555556,
             "#d8576b"
            ],
            [
             0.6666666666666666,
             "#ed7953"
            ],
            [
             0.7777777777777778,
             "#fb9f3a"
            ],
            [
             0.8888888888888888,
             "#fdca26"
            ],
            [
             1,
             "#f0f921"
            ]
           ],
           "sequentialminus": [
            [
             0,
             "#0d0887"
            ],
            [
             0.1111111111111111,
             "#46039f"
            ],
            [
             0.2222222222222222,
             "#7201a8"
            ],
            [
             0.3333333333333333,
             "#9c179e"
            ],
            [
             0.4444444444444444,
             "#bd3786"
            ],
            [
             0.5555555555555556,
             "#d8576b"
            ],
            [
             0.6666666666666666,
             "#ed7953"
            ],
            [
             0.7777777777777778,
             "#fb9f3a"
            ],
            [
             0.8888888888888888,
             "#fdca26"
            ],
            [
             1,
             "#f0f921"
            ]
           ]
          },
          "colorway": [
           "#636efa",
           "#EF553B",
           "#00cc96",
           "#ab63fa",
           "#FFA15A",
           "#19d3f3",
           "#FF6692",
           "#B6E880",
           "#FF97FF",
           "#FECB52"
          ],
          "font": {
           "color": "#2a3f5f"
          },
          "geo": {
           "bgcolor": "white",
           "lakecolor": "white",
           "landcolor": "#E5ECF6",
           "showlakes": true,
           "showland": true,
           "subunitcolor": "white"
          },
          "hoverlabel": {
           "align": "left"
          },
          "hovermode": "closest",
          "mapbox": {
           "style": "light"
          },
          "paper_bgcolor": "white",
          "plot_bgcolor": "#E5ECF6",
          "polar": {
           "angularaxis": {
            "gridcolor": "white",
            "linecolor": "white",
            "ticks": ""
           },
           "bgcolor": "#E5ECF6",
           "radialaxis": {
            "gridcolor": "white",
            "linecolor": "white",
            "ticks": ""
           }
          },
          "scene": {
           "xaxis": {
            "backgroundcolor": "#E5ECF6",
            "gridcolor": "white",
            "gridwidth": 2,
            "linecolor": "white",
            "showbackground": true,
            "ticks": "",
            "zerolinecolor": "white"
           },
           "yaxis": {
            "backgroundcolor": "#E5ECF6",
            "gridcolor": "white",
            "gridwidth": 2,
            "linecolor": "white",
            "showbackground": true,
            "ticks": "",
            "zerolinecolor": "white"
           },
           "zaxis": {
            "backgroundcolor": "#E5ECF6",
            "gridcolor": "white",
            "gridwidth": 2,
            "linecolor": "white",
            "showbackground": true,
            "ticks": "",
            "zerolinecolor": "white"
           }
          },
          "shapedefaults": {
           "line": {
            "color": "#2a3f5f"
           }
          },
          "ternary": {
           "aaxis": {
            "gridcolor": "white",
            "linecolor": "white",
            "ticks": ""
           },
           "baxis": {
            "gridcolor": "white",
            "linecolor": "white",
            "ticks": ""
           },
           "bgcolor": "#E5ECF6",
           "caxis": {
            "gridcolor": "white",
            "linecolor": "white",
            "ticks": ""
           }
          },
          "title": {
           "x": 0.05
          },
          "xaxis": {
           "automargin": true,
           "gridcolor": "white",
           "linecolor": "white",
           "ticks": "",
           "title": {
            "standoff": 15
           },
           "zerolinecolor": "white",
           "zerolinewidth": 2
          },
          "yaxis": {
           "automargin": true,
           "gridcolor": "white",
           "linecolor": "white",
           "ticks": "",
           "title": {
            "standoff": 15
           },
           "zerolinecolor": "white",
           "zerolinewidth": 2
          }
         }
        },
        "title": {
         "text": "Nifty 50 From March 2018 to Dec 2018",
         "x": 0.5,
         "xanchor": "center",
         "y": 0.9,
         "yanchor": "top"
        },
        "xaxis": {
         "rangeslider": {
          "visible": true
         },
         "title": {
          "text": "Time"
         }
        },
        "yaxis": {
         "title": {
          "text": "Price"
         }
        }
       }
      },
      "text/html": [
       "<div>                            <div id=\"f97279a2-9574-4b7a-98dc-79c77e59e293\" class=\"plotly-graph-div\" style=\"height:525px; width:100%;\"></div>            <script type=\"text/javascript\">                require([\"plotly\"], function(Plotly) {                    window.PLOTLYENV=window.PLOTLYENV || {};                                    if (document.getElementById(\"f97279a2-9574-4b7a-98dc-79c77e59e293\")) {                    Plotly.newPlot(                        \"f97279a2-9574-4b7a-98dc-79c77e59e293\",                        [{\"close\":[10458.35,10358.85,10249.25,10154.2,10242.65,10226.85,10421.4,10426.85,10410.9,10360.15,10195.15,10094.25,10124.35,10155.25,10114.75,9998.05,10130.65,10184.15,10113.7,10211.8,10245.0,10128.4,10325.15,10331.6,10379.35,10402.25,10417.15,10458.65,10480.6,10528.35,10548.7,10526.2,10565.3,10564.05,10584.7,10614.35,10570.55,10617.8,10692.3,10739.35,10718.05,10679.65,10618.25,10715.5,10717.8,10741.7,10716.55,10806.5,10806.6,10801.85,10741.1,10682.7,10596.4,10516.7,10536.7,10430.35,10513.85,10605.15,10688.65,10633.3,10614.35,10736.15,10696.2,10628.5,10593.15,10684.65,10768.35,10767.65,10786.95,10842.85,10856.7,10808.05,10817.7,10799.85,10710.45,10772.05,10741.1,10821.85,10762.45,10769.15,10671.4,10589.1,10714.3,10657.3,10699.9,10769.9,10749.75,10772.65,10852.9,10947.25,10948.3,11023.2,11018.9,10936.85,11008.05,10980.45,10957.1,11010.2,11084.75,11134.3,11132.0,11167.3,11278.35,11319.55,11356.5,11346.2,11244.7,11360.8,11387.1,11389.45,11450.0,11470.7,11429.5,11355.75,11435.1,11385.05,11470.75,11551.75,11570.9,11582.75,11557.1,11691.95,11738.5,11691.9,11676.8,11680.5,11582.35,11520.3,11476.95,11536.9,11589.1,11438.1,11287.5,11369.9,11515.2,11377.75,11278.9,11234.35,11143.1,10967.4,11067.45,11053.8,10977.55,10930.45,11008.3,10858.25,10599.25,10316.45,10348.05,10301.05,10460.1,10234.65,10472.5,10512.5,10584.75,10453.05,10303.55,10245.25,10146.8,10224.75,10124.9,10030.0,10250.85,10198.4,10386.6,10380.45,10553.0,10524.0,10530.0,10598.4,10585.2,10482.2,10582.5,10576.3,10616.7,10682.2,10763.4,10656.2,10600.05,10526.75,10628.6,10685.6,10728.85,10858.7,10876.75,10883.75,10869.5,10782.9,10601.15,10693.7,10488.45,10549.15,10737.6,10791.55,10805.45,10888.35,10908.7,10967.3,10951.7,10754.0,10663.5,10729.85,10779.8,10859.9,10862.55],\"high\":[10525.5,10428.7,10441.35,10243.35,10270.35,10296.7,10433.65,10478.6,10420.35,10420.0,10346.3,10224.55,10155.65,10227.3,10207.85,10027.7,10143.5,10207.9,10158.35,10220.1,10255.35,10279.85,10331.8,10350.45,10397.7,10424.85,10428.15,10469.9,10519.9,10540.15,10560.45,10594.2,10572.2,10582.35,10638.35,10636.8,10612.6,10628.4,10719.8,10759.0,10784.65,10720.6,10700.45,10725.65,10758.55,10766.25,10785.55,10812.05,10834.85,10929.2,10790.45,10777.25,10674.95,10621.7,10558.6,10533.55,10535.15,10628.05,10709.8,10717.25,10648.7,10763.8,10764.75,10770.3,10633.15,10698.35,10818.0,10779.45,10850.55,10856.55,10893.25,10833.7,10834.0,10830.2,10789.45,10781.8,10809.6,10837.0,10831.05,10805.25,10785.5,10674.2,10723.05,10736.15,10713.3,10777.15,10786.05,10816.35,10860.35,10956.9,10976.65,11078.3,11071.35,11019.5,11018.5,11076.2,11006.5,11030.25,11093.4,11143.4,11157.15,11185.85,11283.4,11328.1,11366.0,11390.55,11328.9,11368.0,11427.65,11428.95,11459.95,11495.2,11478.75,11406.3,11452.45,11449.85,11486.45,11565.3,11581.75,11620.7,11604.6,11700.95,11760.2,11753.2,11698.8,11727.65,11751.8,11602.55,11542.65,11562.25,11603.0,11573.0,11479.4,11380.75,11523.25,11464.95,11411.45,11332.05,11346.8,11170.15,11080.6,11145.55,11089.45,11034.1,11035.65,10989.05,10754.7,10540.65,10398.35,10397.6,10482.35,10335.95,10492.45,10526.3,10604.9,10710.15,10380.1,10408.55,10222.1,10290.65,10166.6,10128.85,10275.3,10285.1,10396.0,10441.9,10606.95,10558.8,10600.25,10616.45,10619.55,10645.5,10596.25,10651.6,10646.5,10695.15,10774.7,10740.85,10671.3,10646.25,10637.8,10695.15,10757.8,10883.05,10922.45,10941.2,10890.95,10821.05,10722.65,10704.55,10558.85,10567.15,10752.2,10838.6,10815.75,10900.35,10915.4,10985.15,10962.55,10963.65,10782.3,10747.5,10834.2,10893.6,10923.55],\"low\":[10447.15,10323.9,10215.9,10141.55,10146.4,10211.9,10295.45,10377.85,10336.3,10346.2,10180.25,10075.3,10049.1,10132.95,10105.4,9951.9,9958.55,10139.65,10096.9,10127.75,10171.05,10111.3,10227.45,10290.85,10328.5,10381.5,10355.6,10395.25,10451.45,10396.35,10495.65,10509.7,10546.2,10527.45,10514.95,10569.0,10536.45,10559.65,10647.55,10704.6,10689.8,10647.45,10601.6,10635.65,10689.4,10689.85,10705.0,10724.45,10774.75,10781.4,10699.7,10664.5,10589.1,10505.8,10490.55,10417.8,10419.8,10524.0,10640.55,10616.1,10558.45,10620.4,10681.5,10618.35,10550.9,10587.5,10722.6,10709.05,10777.05,10789.4,10842.65,10773.55,10755.4,10787.35,10701.2,10724.05,10725.9,10710.45,10753.05,10732.55,10652.4,10557.7,10612.35,10604.65,10630.25,10677.75,10726.25,10735.05,10807.15,10876.65,10923.0,10999.65,10999.75,10926.25,10925.6,10956.3,10935.45,10946.2,11010.95,11092.5,11113.25,11125.7,11210.25,11261.45,11267.75,11313.55,11234.95,11294.55,11370.6,11359.7,11379.3,11454.1,11419.65,11340.3,11370.8,11366.25,11431.8,11499.65,11539.6,11546.7,11532.0,11595.6,11710.5,11678.85,11639.7,11640.1,11567.4,11496.85,11393.85,11436.05,11484.4,11427.3,11274.0,11250.2,11430.55,11366.9,11268.95,11210.9,10866.45,10943.6,10882.85,10993.05,10953.35,10850.3,10821.55,10843.75,10547.25,10261.9,10198.4,10279.35,10318.25,10138.6,10322.15,10410.15,10525.3,10436.45,10249.6,10224.0,10102.35,10126.7,10079.3,10004.55,10020.35,10175.35,10105.1,10341.9,10457.7,10477.0,10491.45,10582.3,10544.85,10464.05,10440.55,10532.7,10557.5,10631.15,10688.8,10640.85,10562.35,10512.0,10489.75,10596.35,10699.85,10782.35,10835.1,10845.35,10833.35,10747.95,10588.25,10599.35,10474.95,10333.85,10560.8,10749.5,10752.1,10844.85,10819.1,10928.0,10880.05,10738.65,10649.25,10534.55,10764.45,10817.15,10853.2],\"open\":[10479.95,10428.3,10420.5,10232.95,10216.25,10271.3,10301.6,10389.5,10393.05,10405.45,10345.15,10215.35,10051.55,10181.95,10167.5,9968.8,9989.15,10188.0,10143.6,10151.65,10186.85,10274.6,10228.45,10322.75,10333.7,10412.9,10428.15,10410.65,10495.3,10398.3,10557.3,10578.9,10563.65,10560.35,10592.8,10578.1,10612.4,10586.5,10651.65,10705.75,10783.85,10720.15,10700.45,10653.15,10757.9,10693.35,10779.65,10741.95,10815.15,10812.6,10751.95,10775.6,10671.85,10616.7,10518.45,10521.1,10464.85,10533.05,10648.35,10689.4,10579.0,10670.1,10738.45,10765.95,10630.7,10603.45,10722.6,10736.4,10781.85,10816.15,10887.5,10832.9,10808.65,10830.2,10789.45,10734.65,10808.45,10742.7,10822.9,10742.7,10785.5,10660.8,10612.85,10732.35,10668.6,10715.0,10786.05,10744.15,10838.3,10902.75,10956.4,11006.95,11056.9,11018.95,10939.65,11060.2,10999.5,10963.5,11019.85,11109.0,11148.4,11132.95,11232.75,11296.65,11311.05,11359.8,11328.9,11297.8,11401.5,11423.15,11412.5,11493.25,11474.95,11369.6,11381.7,11397.15,11437.15,11502.1,11576.2,11620.7,11566.6,11605.85,11731.95,11744.95,11694.75,11675.85,11751.8,11598.75,11514.85,11514.15,11558.25,11570.25,11476.85,11340.1,11443.5,11464.95,11381.55,11326.65,11271.3,11164.4,10969.95,11145.55,11079.8,11008.1,10930.9,10982.7,10754.7,10514.1,10310.15,10390.3,10331.85,10169.8,10331.55,10524.2,10550.15,10688.7,10339.7,10405.85,10152.6,10278.15,10135.05,10122.35,10078.1,10239.4,10209.55,10441.7,10462.3,10558.75,10552.0,10614.45,10614.7,10607.8,10451.9,10634.9,10580.6,10644.0,10731.25,10740.1,10670.95,10612.65,10568.3,10621.45,10708.75,10808.7,10892.1,10930.7,10877.1,10820.45,10718.15,10644.8,10508.7,10350.05,10591.0,10810.75,10784.5,10853.2,10850.9,10930.55,10885.2,10944.25,10780.9,10635.45,10817.9,10820.95,10913.2],\"x\":[\"2018-03-01T00:00:00\",\"2018-03-05T00:00:00\",\"2018-03-06T00:00:00\",\"2018-03-07T00:00:00\",\"2018-03-08T00:00:00\",\"2018-03-09T00:00:00\",\"2018-03-12T00:00:00\",\"2018-03-13T00:00:00\",\"2018-03-14T00:00:00\",\"2018-03-15T00:00:00\",\"2018-03-16T00:00:00\",\"2018-03-19T00:00:00\",\"2018-03-20T00:00:00\",\"2018-03-21T00:00:00\",\"2018-03-22T00:00:00\",\"2018-03-23T00:00:00\",\"2018-03-26T00:00:00\",\"2018-03-27T00:00:00\",\"2018-03-28T00:00:00\",\"2018-04-02T00:00:00\",\"2018-04-03T00:00:00\",\"2018-04-04T00:00:00\",\"2018-04-05T00:00:00\",\"2018-04-06T00:00:00\",\"2018-04-09T00:00:00\",\"2018-04-10T00:00:00\",\"2018-04-11T00:00:00\",\"2018-04-12T00:00:00\",\"2018-04-13T00:00:00\",\"2018-04-16T00:00:00\",\"2018-04-17T00:00:00\",\"2018-04-18T00:00:00\",\"2018-04-19T00:00:00\",\"2018-04-20T00:00:00\",\"2018-04-23T00:00:00\",\"2018-04-24T00:00:00\",\"2018-04-25T00:00:00\",\"2018-04-26T00:00:00\",\"2018-04-27T00:00:00\",\"2018-04-30T00:00:00\",\"2018-05-02T00:00:00\",\"2018-05-03T00:00:00\",\"2018-05-04T00:00:00\",\"2018-05-07T00:00:00\",\"2018-05-08T00:00:00\",\"2018-05-09T00:00:00\",\"2018-05-10T00:00:00\",\"2018-05-11T00:00:00\",\"2018-05-14T00:00:00\",\"2018-05-15T00:00:00\",\"2018-05-16T00:00:00\",\"2018-05-17T00:00:00\",\"2018-05-18T00:00:00\",\"2018-05-21T00:00:00\",\"2018-05-22T00:00:00\",\"2018-05-23T00:00:00\",\"2018-05-24T00:00:00\",\"2018-05-25T00:00:00\",\"2018-05-28T00:00:00\",\"2018-05-29T00:00:00\",\"2018-05-30T00:00:00\",\"2018-05-31T00:00:00\",\"2018-06-01T00:00:00\",\"2018-06-04T00:00:00\",\"2018-06-05T00:00:00\",\"2018-06-06T00:00:00\",\"2018-06-07T00:00:00\",\"2018-06-08T00:00:00\",\"2018-06-11T00:00:00\",\"2018-06-12T00:00:00\",\"2018-06-13T00:00:00\",\"2018-06-14T00:00:00\",\"2018-06-15T00:00:00\",\"2018-06-18T00:00:00\",\"2018-06-19T00:00:00\",\"2018-06-20T00:00:00\",\"2018-06-21T00:00:00\",\"2018-06-22T00:00:00\",\"2018-06-25T00:00:00\",\"2018-06-26T00:00:00\",\"2018-06-27T00:00:00\",\"2018-06-28T00:00:00\",\"2018-06-29T00:00:00\",\"2018-07-02T00:00:00\",\"2018-07-03T00:00:00\",\"2018-07-04T00:00:00\",\"2018-07-05T00:00:00\",\"2018-07-06T00:00:00\",\"2018-07-09T00:00:00\",\"2018-07-10T00:00:00\",\"2018-07-11T00:00:00\",\"2018-07-12T00:00:00\",\"2018-07-13T00:00:00\",\"2018-07-16T00:00:00\",\"2018-07-17T00:00:00\",\"2018-07-18T00:00:00\",\"2018-07-19T00:00:00\",\"2018-07-20T00:00:00\",\"2018-07-23T00:00:00\",\"2018-07-24T00:00:00\",\"2018-07-25T00:00:00\",\"2018-07-26T00:00:00\",\"2018-07-27T00:00:00\",\"2018-07-30T00:00:00\",\"2018-07-31T00:00:00\",\"2018-08-01T00:00:00\",\"2018-08-02T00:00:00\",\"2018-08-03T00:00:00\",\"2018-08-06T00:00:00\",\"2018-08-07T00:00:00\",\"2018-08-08T00:00:00\",\"2018-08-09T00:00:00\",\"2018-08-10T00:00:00\",\"2018-08-13T00:00:00\",\"2018-08-14T00:00:00\",\"2018-08-16T00:00:00\",\"2018-08-17T00:00:00\",\"2018-08-20T00:00:00\",\"2018-08-21T00:00:00\",\"2018-08-23T00:00:00\",\"2018-08-24T00:00:00\",\"2018-08-27T00:00:00\",\"2018-08-28T00:00:00\",\"2018-08-29T00:00:00\",\"2018-08-30T00:00:00\",\"2018-08-31T00:00:00\",\"2018-09-03T00:00:00\",\"2018-09-04T00:00:00\",\"2018-09-05T00:00:00\",\"2018-09-06T00:00:00\",\"2018-09-07T00:00:00\",\"2018-09-10T00:00:00\",\"2018-09-11T00:00:00\",\"2018-09-12T00:00:00\",\"2018-09-14T00:00:00\",\"2018-09-17T00:00:00\",\"2018-09-18T00:00:00\",\"2018-09-19T00:00:00\",\"2018-09-21T00:00:00\",\"2018-09-24T00:00:00\",\"2018-09-25T00:00:00\",\"2018-09-26T00:00:00\",\"2018-09-27T00:00:00\",\"2018-09-28T00:00:00\",\"2018-10-01T00:00:00\",\"2018-10-03T00:00:00\",\"2018-10-04T00:00:00\",\"2018-10-05T00:00:00\",\"2018-10-08T00:00:00\",\"2018-10-09T00:00:00\",\"2018-10-10T00:00:00\",\"2018-10-11T00:00:00\",\"2018-10-12T00:00:00\",\"2018-10-15T00:00:00\",\"2018-10-16T00:00:00\",\"2018-10-17T00:00:00\",\"2018-10-19T00:00:00\",\"2018-10-22T00:00:00\",\"2018-10-23T00:00:00\",\"2018-10-24T00:00:00\",\"2018-10-25T00:00:00\",\"2018-10-26T00:00:00\",\"2018-10-29T00:00:00\",\"2018-10-30T00:00:00\",\"2018-10-31T00:00:00\",\"2018-11-01T00:00:00\",\"2018-11-02T00:00:00\",\"2018-11-05T00:00:00\",\"2018-11-06T00:00:00\",\"2018-11-07T00:00:00\",\"2018-11-09T00:00:00\",\"2018-11-12T00:00:00\",\"2018-11-13T00:00:00\",\"2018-11-14T00:00:00\",\"2018-11-15T00:00:00\",\"2018-11-16T00:00:00\",\"2018-11-19T00:00:00\",\"2018-11-20T00:00:00\",\"2018-11-21T00:00:00\",\"2018-11-22T00:00:00\",\"2018-11-26T00:00:00\",\"2018-11-27T00:00:00\",\"2018-11-28T00:00:00\",\"2018-11-29T00:00:00\",\"2018-11-30T00:00:00\",\"2018-12-03T00:00:00\",\"2018-12-04T00:00:00\",\"2018-12-05T00:00:00\",\"2018-12-06T00:00:00\",\"2018-12-07T00:00:00\",\"2018-12-10T00:00:00\",\"2018-12-11T00:00:00\",\"2018-12-12T00:00:00\",\"2018-12-13T00:00:00\",\"2018-12-14T00:00:00\",\"2018-12-17T00:00:00\",\"2018-12-18T00:00:00\",\"2018-12-19T00:00:00\",\"2018-12-20T00:00:00\",\"2018-12-21T00:00:00\",\"2018-12-24T00:00:00\",\"2018-12-26T00:00:00\",\"2018-12-27T00:00:00\",\"2018-12-28T00:00:00\",\"2018-12-31T00:00:00\"],\"type\":\"candlestick\"}],                        {\"template\":{\"data\":{\"histogram2dcontour\":[{\"type\":\"histogram2dcontour\",\"colorbar\":{\"outlinewidth\":0,\"ticks\":\"\"},\"colorscale\":[[0.0,\"#0d0887\"],[0.1111111111111111,\"#46039f\"],[0.2222222222222222,\"#7201a8\"],[0.3333333333333333,\"#9c179e\"],[0.4444444444444444,\"#bd3786\"],[0.5555555555555556,\"#d8576b\"],[0.6666666666666666,\"#ed7953\"],[0.7777777777777778,\"#fb9f3a\"],[0.8888888888888888,\"#fdca26\"],[1.0,\"#f0f921\"]]}],\"choropleth\":[{\"type\":\"choropleth\",\"colorbar\":{\"outlinewidth\":0,\"ticks\":\"\"}}],\"histogram2d\":[{\"type\":\"histogram2d\",\"colorbar\":{\"outlinewidth\":0,\"ticks\":\"\"},\"colorscale\":[[0.0,\"#0d0887\"],[0.1111111111111111,\"#46039f\"],[0.2222222222222222,\"#7201a8\"],[0.3333333333333333,\"#9c179e\"],[0.4444444444444444,\"#bd3786\"],[0.5555555555555556,\"#d8576b\"],[0.6666666666666666,\"#ed7953\"],[0.7777777777777778,\"#fb9f3a\"],[0.8888888888888888,\"#fdca26\"],[1.0,\"#f0f921\"]]}],\"heatmap\":[{\"type\":\"heatmap\",\"colorbar\":{\"outlinewidth\":0,\"ticks\":\"\"},\"colorscale\":[[0.0,\"#0d0887\"],[0.1111111111111111,\"#46039f\"],[0.2222222222222222,\"#7201a8\"],[0.3333333333333333,\"#9c179e\"],[0.4444444444444444,\"#bd3786\"],[0.5555555555555556,\"#d8576b\"],[0.6666666666666666,\"#ed7953\"],[0.7777777777777778,\"#fb9f3a\"],[0.8888888888888888,\"#fdca26\"],[1.0,\"#f0f921\"]]}],\"heatmapgl\":[{\"type\":\"heatmapgl\",\"colorbar\":{\"outlinewidth\":0,\"ticks\":\"\"},\"colorscale\":[[0.0,\"#0d0887\"],[0.1111111111111111,\"#46039f\"],[0.2222222222222222,\"#7201a8\"],[0.3333333333333333,\"#9c179e\"],[0.4444444444444444,\"#bd3786\"],[0.5555555555555556,\"#d8576b\"],[0.6666666666666666,\"#ed7953\"],[0.7777777777777778,\"#fb9f3a\"],[0.8888888888888888,\"#fdca26\"],[1.0,\"#f0f921\"]]}],\"contourcarpet\":[{\"type\":\"contourcarpet\",\"colorbar\":{\"outlinewidth\":0,\"ticks\":\"\"}}],\"contour\":[{\"type\":\"contour\",\"colorbar\":{\"outlinewidth\":0,\"ticks\":\"\"},\"colorscale\":[[0.0,\"#0d0887\"],[0.1111111111111111,\"#46039f\"],[0.2222222222222222,\"#7201a8\"],[0.3333333333333333,\"#9c179e\"],[0.4444444444444444,\"#bd3786\"],[0.5555555555555556,\"#d8576b\"],[0.6666666666666666,\"#ed7953\"],[0.7777777777777778,\"#fb9f3a\"],[0.8888888888888888,\"#fdca26\"],[1.0,\"#f0f921\"]]}],\"surface\":[{\"type\":\"surface\",\"colorbar\":{\"outlinewidth\":0,\"ticks\":\"\"},\"colorscale\":[[0.0,\"#0d0887\"],[0.1111111111111111,\"#46039f\"],[0.2222222222222222,\"#7201a8\"],[0.3333333333333333,\"#9c179e\"],[0.4444444444444444,\"#bd3786\"],[0.5555555555555556,\"#d8576b\"],[0.6666666666666666,\"#ed7953\"],[0.7777777777777778,\"#fb9f3a\"],[0.8888888888888888,\"#fdca26\"],[1.0,\"#f0f921\"]]}],\"mesh3d\":[{\"type\":\"mesh3d\",\"colorbar\":{\"outlinewidth\":0,\"ticks\":\"\"}}],\"scatter\":[{\"fillpattern\":{\"fillmode\":\"overlay\",\"size\":10,\"solidity\":0.2},\"type\":\"scatter\"}],\"parcoords\":[{\"type\":\"parcoords\",\"line\":{\"colorbar\":{\"outlinewidth\":0,\"ticks\":\"\"}}}],\"scatterpolargl\":[{\"type\":\"scatterpolargl\",\"marker\":{\"colorbar\":{\"outlinewidth\":0,\"ticks\":\"\"}}}],\"bar\":[{\"error_x\":{\"color\":\"#2a3f5f\"},\"error_y\":{\"color\":\"#2a3f5f\"},\"marker\":{\"line\":{\"color\":\"#E5ECF6\",\"width\":0.5},\"pattern\":{\"fillmode\":\"overlay\",\"size\":10,\"solidity\":0.2}},\"type\":\"bar\"}],\"scattergeo\":[{\"type\":\"scattergeo\",\"marker\":{\"colorbar\":{\"outlinewidth\":0,\"ticks\":\"\"}}}],\"scatterpolar\":[{\"type\":\"scatterpolar\",\"marker\":{\"colorbar\":{\"outlinewidth\":0,\"ticks\":\"\"}}}],\"histogram\":[{\"marker\":{\"pattern\":{\"fillmode\":\"overlay\",\"size\":10,\"solidity\":0.2}},\"type\":\"histogram\"}],\"scattergl\":[{\"type\":\"scattergl\",\"marker\":{\"colorbar\":{\"outlinewidth\":0,\"ticks\":\"\"}}}],\"scatter3d\":[{\"type\":\"scatter3d\",\"line\":{\"colorbar\":{\"outlinewidth\":0,\"ticks\":\"\"}},\"marker\":{\"colorbar\":{\"outlinewidth\":0,\"ticks\":\"\"}}}],\"scattermapbox\":[{\"type\":\"scattermapbox\",\"marker\":{\"colorbar\":{\"outlinewidth\":0,\"ticks\":\"\"}}}],\"scatterternary\":[{\"type\":\"scatterternary\",\"marker\":{\"colorbar\":{\"outlinewidth\":0,\"ticks\":\"\"}}}],\"scattercarpet\":[{\"type\":\"scattercarpet\",\"marker\":{\"colorbar\":{\"outlinewidth\":0,\"ticks\":\"\"}}}],\"carpet\":[{\"aaxis\":{\"endlinecolor\":\"#2a3f5f\",\"gridcolor\":\"white\",\"linecolor\":\"white\",\"minorgridcolor\":\"white\",\"startlinecolor\":\"#2a3f5f\"},\"baxis\":{\"endlinecolor\":\"#2a3f5f\",\"gridcolor\":\"white\",\"linecolor\":\"white\",\"minorgridcolor\":\"white\",\"startlinecolor\":\"#2a3f5f\"},\"type\":\"carpet\"}],\"table\":[{\"cells\":{\"fill\":{\"color\":\"#EBF0F8\"},\"line\":{\"color\":\"white\"}},\"header\":{\"fill\":{\"color\":\"#C8D4E3\"},\"line\":{\"color\":\"white\"}},\"type\":\"table\"}],\"barpolar\":[{\"marker\":{\"line\":{\"color\":\"#E5ECF6\",\"width\":0.5},\"pattern\":{\"fillmode\":\"overlay\",\"size\":10,\"solidity\":0.2}},\"type\":\"barpolar\"}],\"pie\":[{\"automargin\":true,\"type\":\"pie\"}]},\"layout\":{\"autotypenumbers\":\"strict\",\"colorway\":[\"#636efa\",\"#EF553B\",\"#00cc96\",\"#ab63fa\",\"#FFA15A\",\"#19d3f3\",\"#FF6692\",\"#B6E880\",\"#FF97FF\",\"#FECB52\"],\"font\":{\"color\":\"#2a3f5f\"},\"hovermode\":\"closest\",\"hoverlabel\":{\"align\":\"left\"},\"paper_bgcolor\":\"white\",\"plot_bgcolor\":\"#E5ECF6\",\"polar\":{\"bgcolor\":\"#E5ECF6\",\"angularaxis\":{\"gridcolor\":\"white\",\"linecolor\":\"white\",\"ticks\":\"\"},\"radialaxis\":{\"gridcolor\":\"white\",\"linecolor\":\"white\",\"ticks\":\"\"}},\"ternary\":{\"bgcolor\":\"#E5ECF6\",\"aaxis\":{\"gridcolor\":\"white\",\"linecolor\":\"white\",\"ticks\":\"\"},\"baxis\":{\"gridcolor\":\"white\",\"linecolor\":\"white\",\"ticks\":\"\"},\"caxis\":{\"gridcolor\":\"white\",\"linecolor\":\"white\",\"ticks\":\"\"}},\"coloraxis\":{\"colorbar\":{\"outlinewidth\":0,\"ticks\":\"\"}},\"colorscale\":{\"sequential\":[[0.0,\"#0d0887\"],[0.1111111111111111,\"#46039f\"],[0.2222222222222222,\"#7201a8\"],[0.3333333333333333,\"#9c179e\"],[0.4444444444444444,\"#bd3786\"],[0.5555555555555556,\"#d8576b\"],[0.6666666666666666,\"#ed7953\"],[0.7777777777777778,\"#fb9f3a\"],[0.8888888888888888,\"#fdca26\"],[1.0,\"#f0f921\"]],\"sequentialminus\":[[0.0,\"#0d0887\"],[0.1111111111111111,\"#46039f\"],[0.2222222222222222,\"#7201a8\"],[0.3333333333333333,\"#9c179e\"],[0.4444444444444444,\"#bd3786\"],[0.5555555555555556,\"#d8576b\"],[0.6666666666666666,\"#ed7953\"],[0.7777777777777778,\"#fb9f3a\"],[0.8888888888888888,\"#fdca26\"],[1.0,\"#f0f921\"]],\"diverging\":[[0,\"#8e0152\"],[0.1,\"#c51b7d\"],[0.2,\"#de77ae\"],[0.3,\"#f1b6da\"],[0.4,\"#fde0ef\"],[0.5,\"#f7f7f7\"],[0.6,\"#e6f5d0\"],[0.7,\"#b8e186\"],[0.8,\"#7fbc41\"],[0.9,\"#4d9221\"],[1,\"#276419\"]]},\"xaxis\":{\"gridcolor\":\"white\",\"linecolor\":\"white\",\"ticks\":\"\",\"title\":{\"standoff\":15},\"zerolinecolor\":\"white\",\"automargin\":true,\"zerolinewidth\":2},\"yaxis\":{\"gridcolor\":\"white\",\"linecolor\":\"white\",\"ticks\":\"\",\"title\":{\"standoff\":15},\"zerolinecolor\":\"white\",\"automargin\":true,\"zerolinewidth\":2},\"scene\":{\"xaxis\":{\"backgroundcolor\":\"#E5ECF6\",\"gridcolor\":\"white\",\"linecolor\":\"white\",\"showbackground\":true,\"ticks\":\"\",\"zerolinecolor\":\"white\",\"gridwidth\":2},\"yaxis\":{\"backgroundcolor\":\"#E5ECF6\",\"gridcolor\":\"white\",\"linecolor\":\"white\",\"showbackground\":true,\"ticks\":\"\",\"zerolinecolor\":\"white\",\"gridwidth\":2},\"zaxis\":{\"backgroundcolor\":\"#E5ECF6\",\"gridcolor\":\"white\",\"linecolor\":\"white\",\"showbackground\":true,\"ticks\":\"\",\"zerolinecolor\":\"white\",\"gridwidth\":2}},\"shapedefaults\":{\"line\":{\"color\":\"#2a3f5f\"}},\"annotationdefaults\":{\"arrowcolor\":\"#2a3f5f\",\"arrowhead\":0,\"arrowwidth\":1},\"geo\":{\"bgcolor\":\"white\",\"landcolor\":\"#E5ECF6\",\"subunitcolor\":\"white\",\"showland\":true,\"showlakes\":true,\"lakecolor\":\"white\"},\"title\":{\"x\":0.05},\"mapbox\":{\"style\":\"light\"}}},\"title\":{\"text\":\"Nifty 50 From March 2018 to Dec 2018\",\"y\":0.9,\"x\":0.5,\"xanchor\":\"center\",\"yanchor\":\"top\"},\"xaxis\":{\"rangeslider\":{\"visible\":true},\"title\":{\"text\":\"Time\"}},\"yaxis\":{\"title\":{\"text\":\"Price\"}}},                        {\"responsive\": true}                    ).then(function(){\n",
       "                            \n",
       "var gd = document.getElementById('f97279a2-9574-4b7a-98dc-79c77e59e293');\n",
       "var x = new MutationObserver(function (mutations, observer) {{\n",
       "        var display = window.getComputedStyle(gd).display;\n",
       "        if (!display || display === 'none') {{\n",
       "            console.log([gd, 'removed!']);\n",
       "            Plotly.purge(gd);\n",
       "            observer.disconnect();\n",
       "        }}\n",
       "}});\n",
       "\n",
       "// Listen for the removal of the full notebook cells\n",
       "var notebookContainer = gd.closest('#notebook-container');\n",
       "if (notebookContainer) {{\n",
       "    x.observe(notebookContainer, {childList: true});\n",
       "}}\n",
       "\n",
       "// Listen for the clearing of the current output cell\n",
       "var outputEl = gd.closest('.output');\n",
       "if (outputEl) {{\n",
       "    x.observe(outputEl, {childList: true});\n",
       "}}\n",
       "\n",
       "                        })                };                });            </script>        </div>"
      ]
     },
     "metadata": {},
     "output_type": "display_data"
    }
   ],
   "source": [
    "fig.update_layout(title_text='Nifty 50 From March 2018 to Dec 2018',\n",
    "                  title={\n",
    "                    'y':0.9,\n",
    "                    'x':0.5,\n",
    "                    'xanchor': 'center',\n",
    "                    'yanchor': 'top'},\n",
    "                  xaxis_rangeslider_visible=True, \n",
    "                  xaxis_title=\"Time\", \n",
    "                  yaxis_title=\"Price\")\n",
    "\n",
    "fig.show()"
   ]
  },
  {
   "cell_type": "markdown",
   "id": "0db9e38b",
   "metadata": {},
   "source": [
    "## Time Series Decomposition"
   ]
  },
  {
   "cell_type": "code",
   "execution_count": null,
   "id": "e863ab0a",
   "metadata": {},
   "outputs": [],
   "source": []
  }
 ],
 "metadata": {
  "kernelspec": {
   "display_name": "Python 3 (ipykernel)",
   "language": "python",
   "name": "python3"
  },
  "language_info": {
   "codemirror_mode": {
    "name": "ipython",
    "version": 3
   },
   "file_extension": ".py",
   "mimetype": "text/x-python",
   "name": "python",
   "nbconvert_exporter": "python",
   "pygments_lexer": "ipython3",
   "version": "3.9.13"
  }
 },
 "nbformat": 4,
 "nbformat_minor": 5
}
